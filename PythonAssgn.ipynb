{
  "nbformat": 4,
  "nbformat_minor": 0,
  "metadata": {
    "colab": {
      "name": "PythonAssgn.ipynb",
      "provenance": [],
      "authorship_tag": "ABX9TyNsDwgBtT7qu/2CEXHAl9Eh",
      "include_colab_link": true
    },
    "kernelspec": {
      "name": "python3",
      "display_name": "Python 3"
    },
    "language_info": {
      "name": "python"
    }
  },
  "cells": [
    {
      "cell_type": "markdown",
      "metadata": {
        "id": "view-in-github",
        "colab_type": "text"
      },
      "source": [
        "<a href=\"https://colab.research.google.com/github/Sinudeshmukh/Basic-Python/blob/main/PythonAssgn.ipynb\" target=\"_parent\"><img src=\"https://colab.research.google.com/assets/colab-badge.svg\" alt=\"Open In Colab\"/></a>"
      ]
    },
    {
      "cell_type": "markdown",
      "metadata": {
        "id": "M8syEX8xdRKS"
      },
      "source": [
        "##1. Write a Python program which accepts a sequence of comma-separated numbers from user and generate a list and a tuple with those numbers.\n",
        "\n",
        "Sample data : 3, 5, 7, 23\n",
        "\n",
        "Output :\n",
        "List : ['3', ' 5', ' 7', ' 23']\n",
        "\n",
        "Tuple : ('3', ' 5', ' 7', ' 23')"
      ]
    },
    {
      "cell_type": "code",
      "metadata": {
        "id": "iGurriKdcifu"
      },
      "source": [
        "Sampledata = 3, 5, 7, 23"
      ],
      "execution_count": null,
      "outputs": []
    },
    {
      "cell_type": "code",
      "metadata": {
        "colab": {
          "base_uri": "https://localhost:8080/"
        },
        "id": "nVONuHbndnIP",
        "outputId": "935f8755-5b54-400e-d286-d22008587367"
      },
      "source": [
        "lst = list(Sampledata)\n",
        "print('List:{}'.format(lst))"
      ],
      "execution_count": null,
      "outputs": [
        {
          "output_type": "stream",
          "text": [
            "List:[3, 5, 7, 23]\n"
          ],
          "name": "stdout"
        }
      ]
    },
    {
      "cell_type": "code",
      "metadata": {
        "colab": {
          "base_uri": "https://localhost:8080/"
        },
        "id": "iZ2epILmd0rM",
        "outputId": "406984f8-e963-4e73-c6b8-176c4cf835d7"
      },
      "source": [
        "print('Tuple:{}'.format(Sampledata))"
      ],
      "execution_count": null,
      "outputs": [
        {
          "output_type": "stream",
          "text": [
            "Tuple:(3, 5, 7, 23)\n"
          ],
          "name": "stdout"
        }
      ]
    },
    {
      "cell_type": "markdown",
      "metadata": {
        "id": "hrVMIccdh4Il"
      },
      "source": [
        "##2. Write a Python program to display the first and last colors from the following list.\n",
        "\n",
        "color_list = [\"Red\",\"Green\",\"White\" ,\"Black\"]"
      ]
    },
    {
      "cell_type": "code",
      "metadata": {
        "colab": {
          "base_uri": "https://localhost:8080/"
        },
        "id": "m6tyTCHUha4Z",
        "outputId": "6162acba-c09a-440e-e177-07f513830c91"
      },
      "source": [
        "color_list = [\"Red\",\"Green\",\"White\" ,\"Black\"]\n",
        "print(color_list[::len(color_list)-1])"
      ],
      "execution_count": null,
      "outputs": [
        {
          "output_type": "stream",
          "text": [
            "['Red', 'Black']\n"
          ],
          "name": "stdout"
        }
      ]
    },
    {
      "cell_type": "markdown",
      "metadata": {
        "id": "eMicYOGJCXu1"
      },
      "source": [
        "##3. Write a Python program to print the even numbers from a given list.\n",
        "\n",
        "Sample List : [1, 2, 3, 4, 5, 6, 7, 8, 9]\n",
        "\n",
        "Expected Result : [2, 4, 6, 8]"
      ]
    },
    {
      "cell_type": "code",
      "metadata": {
        "id": "1wRecqmviNPs",
        "colab": {
          "base_uri": "https://localhost:8080/"
        },
        "outputId": "dc55c95d-0fcd-481b-88dc-0aecd6db6151"
      },
      "source": [
        "s = [1,2,3,4,5,6,7,8,9]\n",
        "for num in s:\n",
        "  if num % 2==0:\n",
        "    print(num)"
      ],
      "execution_count": null,
      "outputs": [
        {
          "output_type": "stream",
          "text": [
            "2\n",
            "4\n",
            "6\n",
            "8\n"
          ],
          "name": "stdout"
        }
      ]
    },
    {
      "cell_type": "markdown",
      "metadata": {
        "id": "44shnjAnOfDE"
      },
      "source": [
        "#Modules"
      ]
    },
    {
      "cell_type": "markdown",
      "metadata": {
        "id": "8GR4JZiwOhjv"
      },
      "source": [
        "##1. Write a Python program to calculate number of days between two dates. Hint: use Datetime package/module.\n",
        "\n",
        "Sample dates : (2014, 7, 2), (2014, 7, 11)\n",
        "\n",
        "Expected output : 9 days"
      ]
    },
    {
      "cell_type": "code",
      "metadata": {
        "id": "YTaUPFScC759"
      },
      "source": [
        "import datetime"
      ],
      "execution_count": null,
      "outputs": []
    },
    {
      "cell_type": "code",
      "metadata": {
        "colab": {
          "base_uri": "https://localhost:8080/"
        },
        "id": "DBWQCwAbOzCx",
        "outputId": "1227799f-0565-41e7-e50d-2c8284160b55"
      },
      "source": [
        "datetime.datetime(2014,7,11)-datetime.datetime(2014,7,2)"
      ],
      "execution_count": null,
      "outputs": [
        {
          "output_type": "execute_result",
          "data": {
            "text/plain": [
              "datetime.timedelta(days=9)"
            ]
          },
          "metadata": {
            "tags": []
          },
          "execution_count": 7
        }
      ]
    },
    {
      "cell_type": "markdown",
      "metadata": {
        "id": "GGRu1KcDP9IJ"
      },
      "source": [
        "#Functions"
      ]
    },
    {
      "cell_type": "markdown",
      "metadata": {
        "id": "1TmcQRETRKml"
      },
      "source": [
        "##Write a Python program to get the volume of a sphere with radius 6."
      ]
    },
    {
      "cell_type": "code",
      "metadata": {
        "id": "dtAhb_TUP4AN"
      },
      "source": [
        "#Volume of Sphere = 4/3 pi r^3"
      ],
      "execution_count": null,
      "outputs": []
    },
    {
      "cell_type": "code",
      "metadata": {
        "colab": {
          "base_uri": "https://localhost:8080/"
        },
        "id": "AVvor3ATRmx7",
        "outputId": "51011088-9ed8-48f3-c5ee-4730afe5ccde"
      },
      "source": [
        "pi = 3.1415\n",
        "r=int(input(\"Enter Radius of Sphere:\"))"
      ],
      "execution_count": null,
      "outputs": [
        {
          "output_type": "stream",
          "text": [
            "Enter Radius of Sphere:6\n"
          ],
          "name": "stdout"
        }
      ]
    },
    {
      "cell_type": "code",
      "metadata": {
        "colab": {
          "base_uri": "https://localhost:8080/"
        },
        "id": "v4gpF6_ySM6d",
        "outputId": "b64a8fb3-e7d0-4ca6-9ff4-cf0458f04a95"
      },
      "source": [
        "v = 4/3*pi*r\n",
        "v"
      ],
      "execution_count": null,
      "outputs": [
        {
          "output_type": "execute_result",
          "data": {
            "text/plain": [
              "25.131999999999998"
            ]
          },
          "metadata": {
            "tags": []
          },
          "execution_count": 10
        }
      ]
    },
    {
      "cell_type": "markdown",
      "metadata": {
        "id": "l1Tq5tmwScj0"
      },
      "source": [
        "##2. Write a Python program to calculate the sum of three given numbers, if the values are equal then return three times of their sum hint: write User defined functions"
      ]
    },
    {
      "cell_type": "code",
      "metadata": {
        "id": "eiTS-MKPSU72"
      },
      "source": [
        "def sumx3(a=1,b=1,c=1):\n",
        "  if a==b==c:\n",
        "    print((a+b+c)*3)"
      ],
      "execution_count": null,
      "outputs": []
    },
    {
      "cell_type": "code",
      "metadata": {
        "colab": {
          "base_uri": "https://localhost:8080/"
        },
        "id": "8ezM8nA7THFW",
        "outputId": "0782918e-f795-4b80-e77d-387d2564d1c7"
      },
      "source": [
        "sumx3(4,4,4)"
      ],
      "execution_count": null,
      "outputs": [
        {
          "output_type": "stream",
          "text": [
            "36\n"
          ],
          "name": "stdout"
        }
      ]
    },
    {
      "cell_type": "code",
      "metadata": {
        "colab": {
          "base_uri": "https://localhost:8080/"
        },
        "id": "e9kryEAvURqC",
        "outputId": "a148d666-4f05-4816-ca15-a973400fcd34"
      },
      "source": [
        "sumx3()"
      ],
      "execution_count": null,
      "outputs": [
        {
          "output_type": "stream",
          "text": [
            "9\n"
          ],
          "name": "stdout"
        }
      ]
    },
    {
      "cell_type": "markdown",
      "metadata": {
        "id": "XxqnS3SrVN1r"
      },
      "source": [
        "##3. Write a Python program to count the number 4 in a given list.\n",
        "\n",
        "List = [1,4,6,8,4,9,4]"
      ]
    },
    {
      "cell_type": "code",
      "metadata": {
        "id": "b7f2I10uVR86"
      },
      "source": [
        "List = [1,4,6,8,4,9,4]"
      ],
      "execution_count": null,
      "outputs": []
    },
    {
      "cell_type": "code",
      "metadata": {
        "colab": {
          "base_uri": "https://localhost:8080/"
        },
        "id": "z0AGhpG8VT-y",
        "outputId": "f43075ae-5a95-4c33-eb89-442ef4558dd0"
      },
      "source": [
        "List.count(4)"
      ],
      "execution_count": null,
      "outputs": [
        {
          "output_type": "execute_result",
          "data": {
            "text/plain": [
              "3"
            ]
          },
          "metadata": {
            "tags": []
          },
          "execution_count": 15
        }
      ]
    },
    {
      "cell_type": "markdown",
      "metadata": {
        "id": "9aNozYG-VgsY"
      },
      "source": [
        "##4. Write a Python program to print all even numbers from a given numbers list in the same order and stop the printing if any numbers that come after 237 in the sequence. Go to the editorSample numbers list :\n",
        "\n",
        "399, 162, 758, 219, 918, 237, 412, 566, 826, 248, 866, 950, 626, 949, 687, 217,\n",
        "\n",
        "815, 67, 104, 58, 512, 24, 892, 894, 767, 553, 81, 379, 843, 831, 445, 742, 717,\n",
        "\n",
        "958,743, 527]"
      ]
    },
    {
      "cell_type": "code",
      "metadata": {
        "id": "uLuPRYhCVYEB"
      },
      "source": [
        "nums = [399, 162, 758, 219, 918, 237, 412, 566, 826, 248, 866, 950, 626, 949, 687, 217,\n",
        "815, 67, 104, 58, 512, 24, 892, 894, 767, 553, 81, 379, 843, 831, 445, 742, 717,\n",
        "958,743, 527]"
      ],
      "execution_count": null,
      "outputs": []
    },
    {
      "cell_type": "code",
      "metadata": {
        "colab": {
          "base_uri": "https://localhost:8080/"
        },
        "id": "8yhycP53Xl1M",
        "outputId": "fb916e8e-c53d-4ebd-9f83-58b03c80bf7e"
      },
      "source": [
        "for item in nums[0:6]:\n",
        "  if item % 2==0:\n",
        "    print(item)"
      ],
      "execution_count": null,
      "outputs": [
        {
          "output_type": "stream",
          "text": [
            "162\n",
            "758\n",
            "918\n"
          ],
          "name": "stdout"
        }
      ]
    },
    {
      "cell_type": "markdown",
      "metadata": {
        "id": "hYLkCEuhYhJc"
      },
      "source": [
        "##5. Write a Python program to find those numbers which are divisible by 7 and multiple of 5, between 1500 and 2700 (both included)\n",
        "\n"
      ]
    },
    {
      "cell_type": "code",
      "metadata": {
        "id": "gJutq4kLYcQN"
      },
      "source": [
        "rng = range(1500,2701)"
      ],
      "execution_count": null,
      "outputs": []
    },
    {
      "cell_type": "code",
      "metadata": {
        "colab": {
          "base_uri": "https://localhost:8080/"
        },
        "id": "glUa7QU4YyN_",
        "outputId": "dbe27a18-0e45-4e49-be40-b5fdebdf5699"
      },
      "source": [
        "for item in rng:\n",
        "  if item % 7==0 and item % 5==0:\n",
        "    print(item)"
      ],
      "execution_count": null,
      "outputs": [
        {
          "output_type": "stream",
          "text": [
            "1505\n",
            "1540\n",
            "1575\n",
            "1610\n",
            "1645\n",
            "1680\n",
            "1715\n",
            "1750\n",
            "1785\n",
            "1820\n",
            "1855\n",
            "1890\n",
            "1925\n",
            "1960\n",
            "1995\n",
            "2030\n",
            "2065\n",
            "2100\n",
            "2135\n",
            "2170\n",
            "2205\n",
            "2240\n",
            "2275\n",
            "2310\n",
            "2345\n",
            "2380\n",
            "2415\n",
            "2450\n",
            "2485\n",
            "2520\n",
            "2555\n",
            "2590\n",
            "2625\n",
            "2660\n",
            "2695\n"
          ],
          "name": "stdout"
        }
      ]
    },
    {
      "cell_type": "markdown",
      "metadata": {
        "id": "iGWMSUQTaZkj"
      },
      "source": [
        "##6. Write a Python program that prints all the numbers from 0 to 6 except 3 and 6.\n",
        "\n",
        "Note : Use 'continue' statement.\n",
        "\n",
        "Expected Output : 0 1 2 4 5"
      ]
    },
    {
      "cell_type": "code",
      "metadata": {
        "colab": {
          "base_uri": "https://localhost:8080/"
        },
        "id": "tZolW45NZMbL",
        "outputId": "385cae5d-1ff4-4e4c-bc26-5406f3863c0a"
      },
      "source": [
        "for item in range(0,7):\n",
        "  if item % 3==0:\n",
        "    continue\n",
        "  print(item)"
      ],
      "execution_count": null,
      "outputs": [
        {
          "output_type": "stream",
          "text": [
            "1\n",
            "2\n",
            "4\n",
            "5\n"
          ],
          "name": "stdout"
        }
      ]
    },
    {
      "cell_type": "markdown",
      "metadata": {
        "id": "jFifZy_ya5gS"
      },
      "source": [
        "##7. Write a Python program to get the Fibonacci series between 0 to 50.\n",
        "\n",
        "Note : The Fibonacci Sequence is the series of numbers :\n",
        "\n",
        "0, 1, 1, 2, 3, 5, 8, 13, 21, ....\n",
        "\n",
        "Every next number is found by adding up the two numbers before it.\n",
        "\n",
        "Expected Output : 1 1 2 3 5 8 13 21 34"
      ]
    },
    {
      "cell_type": "code",
      "metadata": {
        "id": "K6WcqvO2aqxQ"
      },
      "source": [
        "def Fibonacci(n):\n",
        "  if n==0 or n==1:\n",
        "    return n\n",
        "  else:\n",
        "    return Fibonacci(n-1) + Fibonacci(n-2)"
      ],
      "execution_count": null,
      "outputs": []
    },
    {
      "cell_type": "code",
      "metadata": {
        "colab": {
          "base_uri": "https://localhost:8080/"
        },
        "id": "J4jE88q-Vr5C",
        "outputId": "9fba8118-f072-4e61-b78a-707470f28970"
      },
      "source": [
        "Fibonacci(5)"
      ],
      "execution_count": null,
      "outputs": [
        {
          "output_type": "execute_result",
          "data": {
            "text/plain": [
              "5"
            ]
          },
          "metadata": {
            "tags": []
          },
          "execution_count": 35
        }
      ]
    },
    {
      "cell_type": "code",
      "metadata": {
        "colab": {
          "base_uri": "https://localhost:8080/"
        },
        "id": "AJJbfWH7Vt5u",
        "outputId": "3620456c-4000-4e98-b0d7-29504d0c4821"
      },
      "source": [
        "lookup = {}\n",
        "\n",
        "def fibo(n):\n",
        "  if n==0 or n==1:\n",
        "    lookup[n] = n\n",
        "  \n",
        "  if n not in lookup:\n",
        "    lookup[n] = fibo(n-1) + fibo(n-2)\n",
        "\n",
        "  return lookup[n]\n",
        "\n",
        "n = int(input('Enter a number: '))\n",
        "\n",
        "fibo(n)\n",
        "\n",
        "for item in range(n+1):\n",
        "  print(fibo(item),sep=',')"
      ],
      "execution_count": null,
      "outputs": [
        {
          "output_type": "stream",
          "text": [
            "Enter a number: 50\n",
            "0\n",
            "1\n",
            "1\n",
            "2\n",
            "3\n",
            "5\n",
            "8\n",
            "13\n",
            "21\n",
            "34\n",
            "55\n",
            "89\n",
            "144\n",
            "233\n",
            "377\n",
            "610\n",
            "987\n",
            "1597\n",
            "2584\n",
            "4181\n",
            "6765\n",
            "10946\n",
            "17711\n",
            "28657\n",
            "46368\n",
            "75025\n",
            "121393\n",
            "196418\n",
            "317811\n",
            "514229\n",
            "832040\n",
            "1346269\n",
            "2178309\n",
            "3524578\n",
            "5702887\n",
            "9227465\n",
            "14930352\n",
            "24157817\n",
            "39088169\n",
            "63245986\n",
            "102334155\n",
            "165580141\n",
            "267914296\n",
            "433494437\n",
            "701408733\n",
            "1134903170\n",
            "1836311903\n",
            "2971215073\n",
            "4807526976\n",
            "7778742049\n",
            "12586269025\n"
          ],
          "name": "stdout"
        }
      ]
    },
    {
      "cell_type": "markdown",
      "metadata": {
        "id": "HOBjBGhubkkz"
      },
      "source": [
        "##9. Write a Python function that takes a list and returns a new list with unique elements of the first list.\n",
        "\n",
        "Sample List : [1,2,3,3,3,3,4,5]\n",
        "\n",
        "Unique List : [1, 2, 3, 4, 5]"
      ]
    },
    {
      "cell_type": "code",
      "metadata": {
        "id": "uzo2U4I0aBtP"
      },
      "source": [
        "Sample_List=[1,2,3,3,3,3,4,5]"
      ],
      "execution_count": null,
      "outputs": []
    },
    {
      "cell_type": "code",
      "metadata": {
        "id": "bofn0FA4bs3Q"
      },
      "source": [
        "Unique_list = set(Sample_List)"
      ],
      "execution_count": null,
      "outputs": []
    },
    {
      "cell_type": "code",
      "metadata": {
        "colab": {
          "base_uri": "https://localhost:8080/"
        },
        "id": "Czsh3_06byny",
        "outputId": "9b328da1-b0dc-4ef0-ddc2-45e0be7e6c8f"
      },
      "source": [
        "print(Unique_list)"
      ],
      "execution_count": null,
      "outputs": [
        {
          "output_type": "stream",
          "text": [
            "{1, 2, 3, 4, 5}\n"
          ],
          "name": "stdout"
        }
      ]
    }
  ]
}