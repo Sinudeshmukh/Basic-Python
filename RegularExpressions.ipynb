{
  "nbformat": 4,
  "nbformat_minor": 0,
  "metadata": {
    "colab": {
      "name": "RegularExpressions.ipynb",
      "provenance": [],
      "collapsed_sections": [],
      "authorship_tag": "ABX9TyPkjbyBZ3UY/lcRXTCCFj56",
      "include_colab_link": true
    },
    "kernelspec": {
      "name": "python3",
      "display_name": "Python 3"
    },
    "language_info": {
      "name": "python"
    }
  },
  "cells": [
    {
      "cell_type": "markdown",
      "metadata": {
        "id": "view-in-github",
        "colab_type": "text"
      },
      "source": [
        "<a href=\"https://colab.research.google.com/github/Sinudeshmukh/Basic-Python/blob/main/RegularExpressions.ipynb\" target=\"_parent\"><img src=\"https://colab.research.google.com/assets/colab-badge.svg\" alt=\"Open In Colab\"/></a>"
      ]
    },
    {
      "cell_type": "code",
      "metadata": {
        "id": "drICEAzx2lCg"
      },
      "source": [
        "import pickle"
      ],
      "execution_count": null,
      "outputs": []
    },
    {
      "cell_type": "code",
      "metadata": {
        "id": "cVIYU7Hn2zJy"
      },
      "source": [
        "teams = {\n",
        "    'North': ('Punjab','Delhi','Mumbai','Gujrat'),\n",
        "    'South': ('Banglore','CSK','Hyd','KKR')\n",
        "}"
      ],
      "execution_count": null,
      "outputs": []
    },
    {
      "cell_type": "code",
      "metadata": {
        "id": "TvviGqJN4PFZ"
      },
      "source": [
        "fh = open('Teams','wb') #write binary\n",
        "\n",
        "pickle.dump(teams,fh)\n",
        "\n",
        "fh.close()"
      ],
      "execution_count": null,
      "outputs": []
    },
    {
      "cell_type": "code",
      "metadata": {
        "id": "hefaje_l4whx"
      },
      "source": [
        "fh = open('Teams','rb') #read binary\n",
        "\n",
        "contents = pickle.load(fh)\n",
        "\n",
        "fh.close()"
      ],
      "execution_count": null,
      "outputs": []
    },
    {
      "cell_type": "code",
      "metadata": {
        "colab": {
          "base_uri": "https://localhost:8080/"
        },
        "id": "fTiCXWgK5FUv",
        "outputId": "08140446-cbda-479b-ceab-897366400275"
      },
      "source": [
        "print('contents', contents)\n",
        "print('type of content', type(contents))"
      ],
      "execution_count": null,
      "outputs": [
        {
          "output_type": "stream",
          "text": [
            "contents {'North': ('Punjab', 'Delhi', 'Mumbai', 'Gujrat'), 'South': ('Banglore', 'CSK', 'Hyd', 'KKR')}\n",
            "type of content <class 'dict'>\n"
          ],
          "name": "stdout"
        }
      ]
    },
    {
      "cell_type": "code",
      "metadata": {
        "id": "27DGcns15WxO"
      },
      "source": [
        "import re"
      ],
      "execution_count": null,
      "outputs": []
    },
    {
      "cell_type": "code",
      "metadata": {
        "id": "OIT0fyzj8sNH"
      },
      "source": [
        "s = 'welcome to world    of   regex   programming'"
      ],
      "execution_count": null,
      "outputs": []
    },
    {
      "cell_type": "code",
      "metadata": {
        "colab": {
          "base_uri": "https://localhost:8080/"
        },
        "id": "XImqgS2v9Spl",
        "outputId": "9978c1e4-92d7-43e2-cc48-81940b1fd200"
      },
      "source": [
        "val = re.split(r'\\s', s)\n",
        "print(val)"
      ],
      "execution_count": null,
      "outputs": [
        {
          "output_type": "stream",
          "text": [
            "['welcome', 'to', 'world', '', '', '', 'of', '', '', 'regex', '', '', 'programming']\n"
          ],
          "name": "stdout"
        }
      ]
    },
    {
      "cell_type": "code",
      "metadata": {
        "colab": {
          "base_uri": "https://localhost:8080/"
        },
        "id": "D5Pp8l8U9fyV",
        "outputId": "c6388fd2-fc8b-4642-8c8d-f737dde952b5"
      },
      "source": [
        "#split using one or more spaces\n",
        "val = re.split(r'\\s+', s)\n",
        "val"
      ],
      "execution_count": null,
      "outputs": [
        {
          "output_type": "execute_result",
          "data": {
            "text/plain": [
              "['welcome', 'to', 'world', 'of', 'regex', 'programming']"
            ]
          },
          "metadata": {
            "tags": []
          },
          "execution_count": 13
        }
      ]
    },
    {
      "cell_type": "code",
      "metadata": {
        "colab": {
          "base_uri": "https://localhost:8080/"
        },
        "id": "SXmUOHsW9ybB",
        "outputId": "869a6987-c471-40b6-c99e-a67897b33496"
      },
      "source": [
        "#split using one or more spaces and specify what is omitted\n",
        "val = re.split(r'(\\s+)', s)\n",
        "val"
      ],
      "execution_count": null,
      "outputs": [
        {
          "output_type": "execute_result",
          "data": {
            "text/plain": [
              "['welcome',\n",
              " ' ',\n",
              " 'to',\n",
              " ' ',\n",
              " 'world',\n",
              " '    ',\n",
              " 'of',\n",
              " '   ',\n",
              " 'regex',\n",
              " '   ',\n",
              " 'programming']"
            ]
          },
          "metadata": {
            "tags": []
          },
          "execution_count": 16
        }
      ]
    },
    {
      "cell_type": "code",
      "metadata": {
        "colab": {
          "base_uri": "https://localhost:8080/"
        },
        "id": "aYktXM-e-vTB",
        "outputId": "93cd7fcd-2297-437a-e824-8fa016cec40e"
      },
      "source": [
        "#split using s\n",
        "val = re.split(r's+', s)\n",
        "val"
      ],
      "execution_count": null,
      "outputs": [
        {
          "output_type": "execute_result",
          "data": {
            "text/plain": [
              "['welcome to world    of   regex   programming']"
            ]
          },
          "metadata": {
            "tags": []
          },
          "execution_count": 17
        }
      ]
    },
    {
      "cell_type": "code",
      "metadata": {
        "id": "KztrrQdP_MUh"
      },
      "source": [
        "r ='welcome to world of regex programming'"
      ],
      "execution_count": null,
      "outputs": []
    },
    {
      "cell_type": "code",
      "metadata": {
        "colab": {
          "base_uri": "https://localhost:8080/"
        },
        "id": "ZgCjnJgnB3RA",
        "outputId": "4506a4f7-722f-421a-ca95-006414998dbf"
      },
      "source": [
        "vals = re.split(r'[a-e]', r)\n",
        "vals"
      ],
      "execution_count": null,
      "outputs": [
        {
          "output_type": "execute_result",
          "data": {
            "text/plain": [
              "['w', 'l', 'om', ' to worl', ' of r', 'g', 'x progr', 'mming']"
            ]
          },
          "metadata": {
            "tags": []
          },
          "execution_count": 19
        }
      ]
    },
    {
      "cell_type": "code",
      "metadata": {
        "colab": {
          "base_uri": "https://localhost:8080/"
        },
        "id": "hHND_G4eCHLs",
        "outputId": "81de50a3-9639-4261-87d9-7f6b80092190"
      },
      "source": [
        "vals = re.split(r'([a-e])', r)\n",
        "vals"
      ],
      "execution_count": null,
      "outputs": [
        {
          "output_type": "execute_result",
          "data": {
            "text/plain": [
              "['w',\n",
              " 'e',\n",
              " 'l',\n",
              " 'c',\n",
              " 'om',\n",
              " 'e',\n",
              " ' to worl',\n",
              " 'd',\n",
              " ' of r',\n",
              " 'e',\n",
              " 'g',\n",
              " 'e',\n",
              " 'x progr',\n",
              " 'a',\n",
              " 'mming']"
            ]
          },
          "metadata": {
            "tags": []
          },
          "execution_count": 20
        }
      ]
    },
    {
      "cell_type": "code",
      "metadata": {
        "colab": {
          "base_uri": "https://localhost:8080/"
        },
        "id": "QbvPXX1bCSBe",
        "outputId": "dcb2c46a-d76d-42a0-a400-627f19912d77"
      },
      "source": [
        "vals = re.split(r'[a-e][l-n]', r)\n",
        "vals"
      ],
      "execution_count": null,
      "outputs": [
        {
          "output_type": "execute_result",
          "data": {
            "text/plain": [
              "['w', 'come to world of regex progr', 'ming']"
            ]
          },
          "metadata": {
            "tags": []
          },
          "execution_count": 21
        }
      ]
    },
    {
      "cell_type": "code",
      "metadata": {
        "colab": {
          "base_uri": "https://localhost:8080/"
        },
        "id": "azREWaNNCXiX",
        "outputId": "889e1ce9-4510-4b5c-9659-4dc29fc2ac2d"
      },
      "source": [
        "vals = re.split(r'([a-e][l-n])', r)\n",
        "vals"
      ],
      "execution_count": null,
      "outputs": [
        {
          "output_type": "execute_result",
          "data": {
            "text/plain": [
              "['w', 'el', 'come to world of regex progr', 'am', 'ming']"
            ]
          },
          "metadata": {
            "tags": []
          },
          "execution_count": 22
        }
      ]
    },
    {
      "cell_type": "code",
      "metadata": {
        "colab": {
          "base_uri": "https://localhost:8080/"
        },
        "id": "a0vNm9Y0Cdjm",
        "outputId": "2b37d582-c44c-4738-c507-628e44c61694"
      },
      "source": [
        "vals = re.split(r'[a-e]|[l-n]', r)\n",
        "vals"
      ],
      "execution_count": null,
      "outputs": [
        {
          "output_type": "execute_result",
          "data": {
            "text/plain": [
              "['w',\n",
              " '',\n",
              " '',\n",
              " 'o',\n",
              " '',\n",
              " ' to wor',\n",
              " '',\n",
              " ' of r',\n",
              " 'g',\n",
              " 'x progr',\n",
              " '',\n",
              " '',\n",
              " 'i',\n",
              " 'g']"
            ]
          },
          "metadata": {
            "tags": []
          },
          "execution_count": 23
        }
      ]
    },
    {
      "cell_type": "code",
      "metadata": {
        "id": "Gn44ZbyNCiPT"
      },
      "source": [
        "address = \"Hi 11    89 Main, 4th Cross, 123 Road, Marathalli, 5678 Bangalore, 560023 67893\""
      ],
      "execution_count": null,
      "outputs": []
    },
    {
      "cell_type": "code",
      "metadata": {
        "colab": {
          "base_uri": "https://localhost:8080/"
        },
        "id": "vu_Q6lCCDUyD",
        "outputId": "6d18fe04-aad1-4e50-b02e-312434992918"
      },
      "source": [
        "fndall = re.findall(r'\\d',address)\n",
        "fndall \n",
        "#find all single digit numbers from file"
      ],
      "execution_count": null,
      "outputs": [
        {
          "output_type": "execute_result",
          "data": {
            "text/plain": [
              "['1',\n",
              " '1',\n",
              " '8',\n",
              " '9',\n",
              " '4',\n",
              " '1',\n",
              " '2',\n",
              " '3',\n",
              " '5',\n",
              " '6',\n",
              " '7',\n",
              " '8',\n",
              " '5',\n",
              " '6',\n",
              " '0',\n",
              " '0',\n",
              " '2',\n",
              " '3',\n",
              " '6',\n",
              " '7',\n",
              " '8',\n",
              " '9',\n",
              " '3']"
            ]
          },
          "metadata": {
            "tags": []
          },
          "execution_count": 27
        }
      ]
    },
    {
      "cell_type": "code",
      "metadata": {
        "colab": {
          "base_uri": "https://localhost:8080/"
        },
        "id": "0FuVKcQpD3Nw",
        "outputId": "a7819ad4-e544-4479-ff9b-a02dcb40d9fc"
      },
      "source": [
        "fndall = re.findall(r'\\d+',address)\n",
        "fndall \n",
        "#find all mult digit numbers from file"
      ],
      "execution_count": null,
      "outputs": [
        {
          "output_type": "execute_result",
          "data": {
            "text/plain": [
              "['11', '89', '4', '123', '5678', '560023', '67893']"
            ]
          },
          "metadata": {
            "tags": []
          },
          "execution_count": 26
        }
      ]
    },
    {
      "cell_type": "code",
      "metadata": {
        "colab": {
          "base_uri": "https://localhost:8080/"
        },
        "id": "XFd78l3uEQ48",
        "outputId": "bdde4f11-ebee-48c0-bd17-be70dbc62a31"
      },
      "source": [
        "fndall = re.findall(r'\\d{6}',address)\n",
        "fndall \n",
        "#find all numbers of six digit from file"
      ],
      "execution_count": null,
      "outputs": [
        {
          "output_type": "execute_result",
          "data": {
            "text/plain": [
              "['560023']"
            ]
          },
          "metadata": {
            "tags": []
          },
          "execution_count": 28
        }
      ]
    },
    {
      "cell_type": "code",
      "metadata": {
        "colab": {
          "base_uri": "https://localhost:8080/"
        },
        "id": "VTyAsUPFEyBS",
        "outputId": "4a67a022-94d6-42d4-f43f-8a6ba470f91f"
      },
      "source": [
        "fndall = re.findall(r'\\d{2}',address)\n",
        "fndall \n",
        "#find all numbers of two digit from file"
      ],
      "execution_count": null,
      "outputs": [
        {
          "output_type": "execute_result",
          "data": {
            "text/plain": [
              "['11', '89', '12', '56', '78', '56', '00', '23', '67', '89']"
            ]
          },
          "metadata": {
            "tags": []
          },
          "execution_count": 29
        }
      ]
    },
    {
      "cell_type": "code",
      "metadata": {
        "colab": {
          "base_uri": "https://localhost:8080/"
        },
        "id": "Z3PsPW6FE5JQ",
        "outputId": "ab744108-bda1-47b0-c196-7e9ff2252c85"
      },
      "source": [
        "fndall = re.findall(r'\\d{1,6}',address)\n",
        "fndall \n",
        "#find all numbers of 1-6 digit from file"
      ],
      "execution_count": null,
      "outputs": [
        {
          "output_type": "execute_result",
          "data": {
            "text/plain": [
              "['11', '89', '4', '123', '5678', '560023', '67893']"
            ]
          },
          "metadata": {
            "tags": []
          },
          "execution_count": 30
        }
      ]
    },
    {
      "cell_type": "code",
      "metadata": {
        "colab": {
          "base_uri": "https://localhost:8080/"
        },
        "id": "pfjb34J-FEdn",
        "outputId": "f9668f74-5e6b-4793-9307-3b73eadf052f"
      },
      "source": [
        "fndall = re.findall(r'\\s(\\d{2})\\s',address)\n",
        "fndall \n",
        "#find all numbers of 1-6 digit from file"
      ],
      "execution_count": null,
      "outputs": [
        {
          "output_type": "execute_result",
          "data": {
            "text/plain": [
              "['11', '89']"
            ]
          },
          "metadata": {
            "tags": []
          },
          "execution_count": 31
        }
      ]
    },
    {
      "cell_type": "code",
      "metadata": {
        "id": "4AFoF9CSFny0"
      },
      "source": [
        "s = '''\n",
        "<html>\n",
        "<head>\n",
        "<title>Current IP Address Allocations\n",
        "</title>\n",
        "</head>\n",
        "<body>\n",
        "IP Address are 172.45.78.109\n",
        "LoopBack Address: 127.0.0.1\n",
        "Computer 1: 10.67.89.101\n",
        "Computer 2: 11.67.98.102\n",
        "Computer 2: 12.68.98.102\n",
        "</body>\n",
        "</html>\n",
        "'''"
      ],
      "execution_count": null,
      "outputs": []
    },
    {
      "cell_type": "code",
      "metadata": {
        "colab": {
          "base_uri": "https://localhost:8080/"
        },
        "id": "E28lzV5bFzjX",
        "outputId": "4306e77a-3921-4917-f544-55e6bf7d02dd"
      },
      "source": [
        "ip = re.findall(r\"\\d{1,3}\\.\\d{1,3}\\.\\d{1,3}\\.\\d{1,3}\",s)\n",
        "ip"
      ],
      "execution_count": null,
      "outputs": [
        {
          "output_type": "execute_result",
          "data": {
            "text/plain": [
              "['172.45.78.109', '127.0.0.1', '10.67.89.101', '11.67.98.102', '12.68.98.102']"
            ]
          },
          "metadata": {
            "tags": []
          },
          "execution_count": 42
        }
      ]
    },
    {
      "cell_type": "code",
      "metadata": {
        "colab": {
          "base_uri": "https://localhost:8080/"
        },
        "id": "KE5ph-i3GW58",
        "outputId": "c068437f-8715-4933-cdf4-6a19b2ee0488"
      },
      "source": [
        "ip = re.findall(r\"10\\.\\d{1,3}\\.\\d{1,3}\\.\\d{1,3}\",s)\n",
        "ip"
      ],
      "execution_count": null,
      "outputs": [
        {
          "output_type": "execute_result",
          "data": {
            "text/plain": [
              "['10.67.89.101']"
            ]
          },
          "metadata": {
            "tags": []
          },
          "execution_count": 46
        }
      ]
    },
    {
      "cell_type": "code",
      "metadata": {
        "colab": {
          "base_uri": "https://localhost:8080/"
        },
        "id": "EC5C9ggmIH7P",
        "outputId": "48012c3f-9e04-4e03-8e62-5fb36b3926c8"
      },
      "source": [
        "ip = re.findall(r\"1[0-2]\\.\\d{1,3}\\.\\d{1,3}\\.\\d{1,3}\",s)\n",
        "ip"
      ],
      "execution_count": null,
      "outputs": [
        {
          "output_type": "execute_result",
          "data": {
            "text/plain": [
              "['10.67.89.101', '11.67.98.102', '12.68.98.102']"
            ]
          },
          "metadata": {
            "tags": []
          },
          "execution_count": 50
        }
      ]
    },
    {
      "cell_type": "code",
      "metadata": {
        "id": "uXUXUn5-I0Pb"
      },
      "source": [
        "empDetails = \"Hi I have a credit card with number 3775 123456 78910 and \" \\\n",
        "             \"other card is\" \\\n",
        "             \" 3545 456789 12345\"\n",
        "\n",
        "#http://www.getcreditcardnumbers.com\n",
        "# AMEX Card\n",
        "# Always start with 3\n",
        "# Second digit is either 4 or 7\n",
        "# <4 Digit> <6 Digit> <5 Digit>"
      ],
      "execution_count": null,
      "outputs": []
    },
    {
      "cell_type": "code",
      "metadata": {
        "colab": {
          "base_uri": "https://localhost:8080/"
        },
        "id": "_JolVJVMTPV-",
        "outputId": "3d174f80-e6bb-4d67-938e-767e217528dc"
      },
      "source": [
        "import re\n",
        "\n",
        "result = re.findall(r\"3[4|7]\\d{2}\\s\\d{6}\\s\\d{5}\",empDetails)\n",
        "result"
      ],
      "execution_count": null,
      "outputs": [
        {
          "output_type": "execute_result",
          "data": {
            "text/plain": [
              "['3775 123456 78910']"
            ]
          },
          "metadata": {
            "tags": []
          },
          "execution_count": 5
        }
      ]
    },
    {
      "cell_type": "code",
      "metadata": {
        "id": "d1_KPBAjTzMI"
      },
      "source": [
        "sampleString = '''\n",
        "Rohit made 122 runs, Virat made 96 runs, and\n",
        "Dhawan made 46 runs and we won the match.\n",
        "'''\n",
        "\n",
        "# {\"Rohit\": 122, \"Virat\": 96, \"Dhawan\": 46}"
      ],
      "execution_count": null,
      "outputs": []
    },
    {
      "cell_type": "code",
      "metadata": {
        "colab": {
          "base_uri": "https://localhost:8080/"
        },
        "id": "bi9vZD25UukP",
        "outputId": "7fedff0f-ede9-447f-d6c6-7f40577d941f"
      },
      "source": [
        "players = re.findall(r\"[A-Z][a-z]+\",sampleString)\n",
        "runs = re.findall(r\"\\d{2,3}\",sampleString)\n",
        "players,runs"
      ],
      "execution_count": null,
      "outputs": [
        {
          "output_type": "execute_result",
          "data": {
            "text/plain": [
              "(['Rohit', 'Virat', 'Dhawan'], ['122', '96', '46'])"
            ]
          },
          "metadata": {
            "tags": []
          },
          "execution_count": 16
        }
      ]
    },
    {
      "cell_type": "code",
      "metadata": {
        "id": "qqBEw8OgVjtn"
      },
      "source": [
        "score = dict(zip(players,runs))"
      ],
      "execution_count": null,
      "outputs": []
    },
    {
      "cell_type": "code",
      "metadata": {
        "colab": {
          "base_uri": "https://localhost:8080/"
        },
        "id": "592zXTgkWxJk",
        "outputId": "6d5d7f25-4e48-4307-b9b2-8c0a2bac751a"
      },
      "source": [
        "score"
      ],
      "execution_count": null,
      "outputs": [
        {
          "output_type": "execute_result",
          "data": {
            "text/plain": [
              "{'Dhawan': '46', 'Rohit': '122', 'Virat': '96'}"
            ]
          },
          "metadata": {
            "tags": []
          },
          "execution_count": 18
        }
      ]
    },
    {
      "cell_type": "code",
      "metadata": {
        "colab": {
          "base_uri": "https://localhost:8080/"
        },
        "id": "J-ly0Mk9WyO6",
        "outputId": "361e468b-5e22-42be-c3e9-9c582cd09f4b"
      },
      "source": [
        "results = {}\n",
        "for item in range(len(players)):\n",
        "  results[players[item]] = runs[item]\n",
        "\n",
        "print(results)"
      ],
      "execution_count": null,
      "outputs": [
        {
          "output_type": "stream",
          "text": [
            "{'Rohit': '122', 'Virat': '96', 'Dhawan': '46'}\n"
          ],
          "name": "stdout"
        }
      ]
    },
    {
      "cell_type": "code",
      "metadata": {
        "colab": {
          "base_uri": "https://localhost:8080/"
        },
        "id": "9g2G9ICxaItK",
        "outputId": "993299a1-4dea-4fbd-8c0c-8e391a4c8a29"
      },
      "source": [
        "scores =  {players[item]: runs[item]  for item in range(len(players))}\n",
        "scores"
      ],
      "execution_count": null,
      "outputs": [
        {
          "output_type": "execute_result",
          "data": {
            "text/plain": [
              "{'Dhawan': '46', 'Rohit': '122', 'Virat': '96'}"
            ]
          },
          "metadata": {
            "tags": []
          },
          "execution_count": 22
        }
      ]
    },
    {
      "cell_type": "code",
      "metadata": {
        "id": "pcMWMugBbV5E"
      },
      "source": [
        "str1 = \"These are the match dates June 24, August 9, Dec 12\"\n",
        "#\"Find all matches in the format Month day\""
      ],
      "execution_count": null,
      "outputs": []
    },
    {
      "cell_type": "code",
      "metadata": {
        "colab": {
          "base_uri": "https://localhost:8080/"
        },
        "id": "UI_eLT_RcgHE",
        "outputId": "5f15dbb1-ee9e-4d73-8fb8-6f5be07ca97f"
      },
      "source": [
        "res = re.findall(r\"[A-Z][a-z]+\\s\\d{1,2}\",str1)\n",
        "res"
      ],
      "execution_count": null,
      "outputs": [
        {
          "output_type": "execute_result",
          "data": {
            "text/plain": [
              "['June 24', 'August 9', 'Dec 12']"
            ]
          },
          "metadata": {
            "tags": []
          },
          "execution_count": 25
        }
      ]
    },
    {
      "cell_type": "code",
      "metadata": {
        "colab": {
          "base_uri": "https://localhost:8080/"
        },
        "id": "zCM2LQHVc5MC",
        "outputId": "c88e8d04-2091-4126-d81b-3bb1e8aa78a4"
      },
      "source": [
        "#only month\n",
        "res = re.findall(r\"([A-Z][a-z]+)\\s\\d{1,2}\",str1)\n",
        "res"
      ],
      "execution_count": null,
      "outputs": [
        {
          "output_type": "execute_result",
          "data": {
            "text/plain": [
              "['June', 'August', 'Dec']"
            ]
          },
          "metadata": {
            "tags": []
          },
          "execution_count": 26
        }
      ]
    },
    {
      "cell_type": "code",
      "metadata": {
        "colab": {
          "base_uri": "https://localhost:8080/"
        },
        "id": "FkcIaqb8ddtH",
        "outputId": "b4792300-4ea7-4164-a4b3-e34aa40d7859"
      },
      "source": [
        "#only dates\n",
        "res = re.findall(r\"[A-Z][a-z]+(\\s\\d{1,2})\",str1)\n",
        "res"
      ],
      "execution_count": null,
      "outputs": [
        {
          "output_type": "execute_result",
          "data": {
            "text/plain": [
              "[' 24', ' 9', ' 12']"
            ]
          },
          "metadata": {
            "tags": []
          },
          "execution_count": 27
        }
      ]
    },
    {
      "cell_type": "code",
      "metadata": {
        "colab": {
          "base_uri": "https://localhost:8080/"
        },
        "id": "HZBYlMHXd_SY",
        "outputId": "114613c7-a02a-4062-8d0a-b2638db88512"
      },
      "source": [
        "#both in lst of tuples\n",
        "res = re.findall(r\"([A-Z][a-z]+)\\s(\\d{1,2})\",str1)\n",
        "res"
      ],
      "execution_count": null,
      "outputs": [
        {
          "output_type": "execute_result",
          "data": {
            "text/plain": [
              "[('June', '24'), ('August', '9'), ('Dec', '12')]"
            ]
          },
          "metadata": {
            "tags": []
          },
          "execution_count": 31
        }
      ]
    },
    {
      "cell_type": "code",
      "metadata": {
        "colab": {
          "base_uri": "https://localhost:8080/"
        },
        "id": "hr9-lQueeYso",
        "outputId": "3bd1a296-c838-4210-b289-853d9f697960"
      },
      "source": [
        "#finditer\n",
        "res = re.finditer(r\"[A-Z][a-z]+\\s\\d{1,2}\",str1)\n",
        "res"
      ],
      "execution_count": null,
      "outputs": [
        {
          "output_type": "execute_result",
          "data": {
            "text/plain": [
              "<callable_iterator at 0x7f3160dde790>"
            ]
          },
          "metadata": {
            "tags": []
          },
          "execution_count": 46
        }
      ]
    },
    {
      "cell_type": "code",
      "metadata": {
        "colab": {
          "base_uri": "https://localhost:8080/"
        },
        "id": "LqDRUtrzgacm",
        "outputId": "490812ff-27d9-4201-b697-0116e5c46407"
      },
      "source": [
        "for item in res:\n",
        "  print(str1[item.start():item.end()])"
      ],
      "execution_count": null,
      "outputs": [
        {
          "output_type": "stream",
          "text": [
            "June 24\n",
            "August 9\n",
            "Dec 12\n"
          ],
          "name": "stdout"
        }
      ]
    },
    {
      "cell_type": "code",
      "metadata": {
        "colab": {
          "base_uri": "https://localhost:8080/"
        },
        "id": "RqgVxYg6jQPV",
        "outputId": "0fc7367e-6b1b-46c7-b4b0-ef576ebea282"
      },
      "source": [
        "res = re.findall(r\"([A-Z][a-z]+)\\s(\\d{1,2})\",str1)\n",
        "res"
      ],
      "execution_count": null,
      "outputs": [
        {
          "output_type": "execute_result",
          "data": {
            "text/plain": [
              "[('June', '24'), ('August', '9'), ('Dec', '12')]"
            ]
          },
          "metadata": {
            "tags": []
          },
          "execution_count": 52
        }
      ]
    },
    {
      "cell_type": "code",
      "metadata": {
        "colab": {
          "base_uri": "https://localhost:8080/"
        },
        "id": "ceKzew5xg07t",
        "outputId": "2a854ffd-0c20-4de6-f8a1-1809c7cb0afc"
      },
      "source": [
        "result = re.finditer(r\"([A-Z][a-z]+)\\s(\\d{1,2})\", str1)\n",
        "print(result)"
      ],
      "execution_count": null,
      "outputs": [
        {
          "output_type": "stream",
          "text": [
            "<callable_iterator object at 0x7f3160db2710>\n"
          ],
          "name": "stdout"
        }
      ]
    },
    {
      "cell_type": "code",
      "metadata": {
        "colab": {
          "base_uri": "https://localhost:8080/"
        },
        "id": "IZOGQa5Ui-AO",
        "outputId": "90b6a51b-0af6-43cc-f85b-c24a8d1424c4"
      },
      "source": [
        "for item in result:\n",
        "      print(\"Match found at group 0: {}\".format(item.group(0)))\n"
      ],
      "execution_count": null,
      "outputs": [
        {
          "output_type": "stream",
          "text": [
            "Match found at group 0: June 24\n",
            "Match found at group 0: August 9\n",
            "Match found at group 0: Dec 12\n"
          ],
          "name": "stdout"
        }
      ]
    },
    {
      "cell_type": "code",
      "metadata": {
        "id": "KQRZGZvTfWA2"
      },
      "source": [
        "import re\n",
        "\n",
        "s = \"A1bc welcome 2Check patT3ern ano3ter check3aldTe 22Check B5 8C \""
      ],
      "execution_count": 1,
      "outputs": []
    },
    {
      "cell_type": "code",
      "metadata": {
        "colab": {
          "base_uri": "https://localhost:8080/"
        },
        "id": "wYSOOGX_fhyR",
        "outputId": "5f43080b-9138-404b-ea4e-07ad38423cbd"
      },
      "source": [
        "lstWords = s.split()\n",
        "print(lstWords)\n",
        "\n",
        "for item in lstWords:\n",
        "    lstPatMatched = re.search(r\"(.*[A-Z].*\\d.*)|(.*\\d.*[A-Z].*)\", item)\n",
        "\n",
        "    if lstPatMatched:\n",
        "        print(\"lstMatched\", lstPatMatched)\n",
        "        print(lstPatMatched.group(0))"
      ],
      "execution_count": 2,
      "outputs": [
        {
          "output_type": "stream",
          "text": [
            "['A1bc', 'welcome', '2Check', 'patT3ern', 'ano3ter', 'check3aldTe', '22Check', 'B5', '8C']\n",
            "lstMatched <re.Match object; span=(0, 4), match='A1bc'>\n",
            "A1bc\n",
            "lstMatched <re.Match object; span=(0, 6), match='2Check'>\n",
            "2Check\n",
            "lstMatched <re.Match object; span=(0, 8), match='patT3ern'>\n",
            "patT3ern\n",
            "lstMatched <re.Match object; span=(0, 11), match='check3aldTe'>\n",
            "check3aldTe\n",
            "lstMatched <re.Match object; span=(0, 7), match='22Check'>\n",
            "22Check\n",
            "lstMatched <re.Match object; span=(0, 2), match='B5'>\n",
            "B5\n",
            "lstMatched <re.Match object; span=(0, 2), match='8C'>\n",
            "8C\n"
          ],
          "name": "stdout"
        }
      ]
    }
  ]
}