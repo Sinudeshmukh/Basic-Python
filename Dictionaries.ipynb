{
  "nbformat": 4,
  "nbformat_minor": 0,
  "metadata": {
    "colab": {
      "name": "Dictionaries.ipynb",
      "provenance": [],
      "authorship_tag": "ABX9TyMblsNcSFm2KcK/55L90ZGj",
      "include_colab_link": true
    },
    "kernelspec": {
      "name": "python3",
      "display_name": "Python 3"
    },
    "language_info": {
      "name": "python"
    }
  },
  "cells": [
    {
      "cell_type": "markdown",
      "metadata": {
        "id": "view-in-github",
        "colab_type": "text"
      },
      "source": [
        "<a href=\"https://colab.research.google.com/github/Sinudeshmukh/Basic-Python/blob/main/Dictionaries.ipynb\" target=\"_parent\"><img src=\"https://colab.research.google.com/assets/colab-badge.svg\" alt=\"Open In Colab\"/></a>"
      ]
    },
    {
      "cell_type": "markdown",
      "metadata": {
        "id": "Hh8lT-LIQehq"
      },
      "source": [
        "# *Dictionary*"
      ]
    },
    {
      "cell_type": "markdown",
      "metadata": {
        "id": "2Y9fnX3IQl9q"
      },
      "source": [
        "##Collection of Key value pairs\n",
        "##Syntax {  }"
      ]
    },
    {
      "cell_type": "code",
      "metadata": {
        "id": "C4RjJDZ1QNmM"
      },
      "source": [
        "# { K1:V1, K2:V2, K3:V3,....}"
      ],
      "execution_count": null,
      "outputs": []
    },
    {
      "cell_type": "code",
      "metadata": {
        "id": "J2AUDF9EQ6G_"
      },
      "source": [
        "fruits = {'a' : 'apple', 'b': 'banana', 'c':'cucumber'}"
      ],
      "execution_count": null,
      "outputs": []
    },
    {
      "cell_type": "code",
      "metadata": {
        "colab": {
          "base_uri": "https://localhost:8080/"
        },
        "id": "1giLQS5lRGMv",
        "outputId": "ac3f06cc-759f-4bf4-8297-4623feac4f51"
      },
      "source": [
        "type(fruits)"
      ],
      "execution_count": null,
      "outputs": [
        {
          "output_type": "execute_result",
          "data": {
            "text/plain": [
              "dict"
            ]
          },
          "metadata": {
            "tags": []
          },
          "execution_count": 3
        }
      ]
    },
    {
      "cell_type": "code",
      "metadata": {
        "colab": {
          "base_uri": "https://localhost:8080/"
        },
        "id": "B9eYcIrXRIHY",
        "outputId": "a4353b14-7fdf-4225-c955-eb9dec8fd526"
      },
      "source": [
        "len(fruits)"
      ],
      "execution_count": null,
      "outputs": [
        {
          "output_type": "execute_result",
          "data": {
            "text/plain": [
              "3"
            ]
          },
          "metadata": {
            "tags": []
          },
          "execution_count": 4
        }
      ]
    },
    {
      "cell_type": "code",
      "metadata": {
        "colab": {
          "base_uri": "https://localhost:8080/",
          "height": 35
        },
        "id": "T5iBZT3uROLf",
        "outputId": "512c7f82-f9b8-4cb2-fef7-bc3554cf724c"
      },
      "source": [
        "fruits['a']"
      ],
      "execution_count": null,
      "outputs": [
        {
          "output_type": "execute_result",
          "data": {
            "application/vnd.google.colaboratory.intrinsic+json": {
              "type": "string"
            },
            "text/plain": [
              "'apple'"
            ]
          },
          "metadata": {
            "tags": []
          },
          "execution_count": 5
        }
      ]
    },
    {
      "cell_type": "code",
      "metadata": {
        "colab": {
          "base_uri": "https://localhost:8080/",
          "height": 35
        },
        "id": "ijV1wzBnRRbK",
        "outputId": "5122cb0c-cf6c-412c-e685-9921b661508b"
      },
      "source": [
        "fruits[\"b\"]"
      ],
      "execution_count": null,
      "outputs": [
        {
          "output_type": "execute_result",
          "data": {
            "application/vnd.google.colaboratory.intrinsic+json": {
              "type": "string"
            },
            "text/plain": [
              "'banana'"
            ]
          },
          "metadata": {
            "tags": []
          },
          "execution_count": 7
        }
      ]
    },
    {
      "cell_type": "code",
      "metadata": {
        "id": "gMeV2IdfRVil"
      },
      "source": [
        "fruits['w'] = 'watermelon'"
      ],
      "execution_count": null,
      "outputs": []
    },
    {
      "cell_type": "code",
      "metadata": {
        "id": "ocbaLoMoRqs2"
      },
      "source": [
        "fruits['p'] = 'papaya'"
      ],
      "execution_count": null,
      "outputs": []
    },
    {
      "cell_type": "code",
      "metadata": {
        "colab": {
          "base_uri": "https://localhost:8080/"
        },
        "id": "u-FIJgF3Rt1b",
        "outputId": "d37de675-9dc8-4d5d-ef78-2e8ef92c39b5"
      },
      "source": [
        "fruits"
      ],
      "execution_count": null,
      "outputs": [
        {
          "output_type": "execute_result",
          "data": {
            "text/plain": [
              "{'a': 'apple',\n",
              " 'b': 'banana',\n",
              " 'c': 'cucumber',\n",
              " 'p': 'papaya',\n",
              " 'w': 'watermelon'}"
            ]
          },
          "metadata": {
            "tags": []
          },
          "execution_count": 10
        }
      ]
    },
    {
      "cell_type": "code",
      "metadata": {
        "id": "pOc90SBeRwpu"
      },
      "source": [
        "fruits['a'] = 'apricot'"
      ],
      "execution_count": null,
      "outputs": []
    },
    {
      "cell_type": "code",
      "metadata": {
        "colab": {
          "base_uri": "https://localhost:8080/"
        },
        "id": "dXn2jqi7R3eW",
        "outputId": "c8333a0e-a5ee-45be-8171-a896b2feb6a5"
      },
      "source": [
        "fruits"
      ],
      "execution_count": null,
      "outputs": [
        {
          "output_type": "execute_result",
          "data": {
            "text/plain": [
              "{'a': 'apricot',\n",
              " 'b': 'banana',\n",
              " 'c': 'cucumber',\n",
              " 'p': 'papaya',\n",
              " 'w': 'watermelon'}"
            ]
          },
          "metadata": {
            "tags": []
          },
          "execution_count": 12
        }
      ]
    },
    {
      "cell_type": "code",
      "metadata": {
        "id": "-5aIRbSxR4si"
      },
      "source": [
        "fruits['c'] = 'Cherry'"
      ],
      "execution_count": null,
      "outputs": []
    },
    {
      "cell_type": "code",
      "metadata": {
        "colab": {
          "base_uri": "https://localhost:8080/"
        },
        "id": "zzMQfjAeSGaE",
        "outputId": "f6ab28e3-7458-4c1f-ebb9-908164b4d13a"
      },
      "source": [
        "fruits"
      ],
      "execution_count": null,
      "outputs": [
        {
          "output_type": "execute_result",
          "data": {
            "text/plain": [
              "{'a': 'apricot',\n",
              " 'b': 'banana',\n",
              " 'c': 'Cherry',\n",
              " 'p': 'papaya',\n",
              " 'w': 'watermelon'}"
            ]
          },
          "metadata": {
            "tags": []
          },
          "execution_count": 14
        }
      ]
    },
    {
      "cell_type": "code",
      "metadata": {
        "id": "QYbPAUmKSLCw"
      },
      "source": [
        "fruits['s'] = 'cherry'"
      ],
      "execution_count": null,
      "outputs": []
    },
    {
      "cell_type": "code",
      "metadata": {
        "colab": {
          "base_uri": "https://localhost:8080/"
        },
        "id": "ECfOHyKPSOrA",
        "outputId": "7b613cac-b45c-4d2a-da37-b1ede2a9c95b"
      },
      "source": [
        "fruits"
      ],
      "execution_count": null,
      "outputs": [
        {
          "output_type": "execute_result",
          "data": {
            "text/plain": [
              "{'a': 'apricot',\n",
              " 'b': 'banana',\n",
              " 'c': 'Cherry',\n",
              " 'p': 'papaya',\n",
              " 's': 'cherry',\n",
              " 'w': 'watermelon'}"
            ]
          },
          "metadata": {
            "tags": []
          },
          "execution_count": 16
        }
      ]
    },
    {
      "cell_type": "code",
      "metadata": {
        "id": "nbVi5hLeSPyY"
      },
      "source": [
        "ipl={ }"
      ],
      "execution_count": null,
      "outputs": []
    },
    {
      "cell_type": "code",
      "metadata": {
        "colab": {
          "base_uri": "https://localhost:8080/"
        },
        "id": "FZvaTe3gSS_F",
        "outputId": "213abb2e-02c4-4464-9748-5216d2dd65cf"
      },
      "source": [
        "len(ipl)"
      ],
      "execution_count": null,
      "outputs": [
        {
          "output_type": "execute_result",
          "data": {
            "text/plain": [
              "0"
            ]
          },
          "metadata": {
            "tags": []
          },
          "execution_count": 19
        }
      ]
    },
    {
      "cell_type": "code",
      "metadata": {
        "id": "nJnZg3G_SVaa"
      },
      "source": [
        "ipl['MI'] = ['Rohit','Surya']"
      ],
      "execution_count": null,
      "outputs": []
    },
    {
      "cell_type": "code",
      "metadata": {
        "id": "MC5u308SSeyC"
      },
      "source": [
        "ipl['RCB'] = ('Virat','Abd')"
      ],
      "execution_count": null,
      "outputs": []
    },
    {
      "cell_type": "code",
      "metadata": {
        "colab": {
          "base_uri": "https://localhost:8080/"
        },
        "id": "gF8ck4SpS0Zl",
        "outputId": "d9d99a3a-1870-487d-f028-06d98a25977e"
      },
      "source": [
        "ipl"
      ],
      "execution_count": null,
      "outputs": [
        {
          "output_type": "execute_result",
          "data": {
            "text/plain": [
              "{'MI': ['Rohit', 'Surya'], 'RCB': ('Virat', 'Abd')}"
            ]
          },
          "metadata": {
            "tags": []
          },
          "execution_count": 23
        }
      ]
    },
    {
      "cell_type": "code",
      "metadata": {
        "id": "FnIv7hmUS-WS"
      },
      "source": [
        "ipl['MI'].append('Hardik')"
      ],
      "execution_count": null,
      "outputs": []
    },
    {
      "cell_type": "code",
      "metadata": {
        "id": "XxTWpqDkTGeA"
      },
      "source": [
        "ipl['Mumbai'] = ipl['MI']"
      ],
      "execution_count": null,
      "outputs": []
    },
    {
      "cell_type": "code",
      "metadata": {
        "colab": {
          "base_uri": "https://localhost:8080/"
        },
        "id": "FIlLZIbtTN-M",
        "outputId": "9b45f841-63a5-4746-88bb-118ccab58ffa"
      },
      "source": [
        "ipl"
      ],
      "execution_count": null,
      "outputs": [
        {
          "output_type": "execute_result",
          "data": {
            "text/plain": [
              "{'MI': ['Rohit', 'Surya', 'Hardik'],\n",
              " 'Mumbai': ['Rohit', 'Surya', 'Hardik'],\n",
              " 'RCB': ('Virat', 'Abd')}"
            ]
          },
          "metadata": {
            "tags": []
          },
          "execution_count": 26
        }
      ]
    },
    {
      "cell_type": "code",
      "metadata": {
        "id": "Cb5JilNdTO4C"
      },
      "source": [
        "ipl['mi'] = 'no mi lower'"
      ],
      "execution_count": null,
      "outputs": []
    },
    {
      "cell_type": "code",
      "metadata": {
        "colab": {
          "base_uri": "https://localhost:8080/"
        },
        "id": "KS2lGz_4U408",
        "outputId": "6cbc7858-6d80-46b8-cb0c-26b63222a30b"
      },
      "source": [
        "ipl"
      ],
      "execution_count": null,
      "outputs": [
        {
          "output_type": "execute_result",
          "data": {
            "text/plain": [
              "{'MI': ['Rohit', 'Surya', 'Hardik'],\n",
              " 'Mumbai': ['Rohit', 'Surya', 'Hardik'],\n",
              " 'RCB': ('Virat', 'Abd'),\n",
              " 'mi': 'no mi lower'}"
            ]
          },
          "metadata": {
            "tags": []
          },
          "execution_count": 28
        }
      ]
    },
    {
      "cell_type": "code",
      "metadata": {
        "colab": {
          "base_uri": "https://localhost:8080/"
        },
        "id": "NIjFvoqDU56T",
        "outputId": "e1fcfc4d-8330-454d-e284-d4eb18f6e9a7"
      },
      "source": [
        "ipl.get('MI')"
      ],
      "execution_count": null,
      "outputs": [
        {
          "output_type": "execute_result",
          "data": {
            "text/plain": [
              "['Rohit', 'Surya', 'Hardik']"
            ]
          },
          "metadata": {
            "tags": []
          },
          "execution_count": 29
        }
      ]
    },
    {
      "cell_type": "code",
      "metadata": {
        "colab": {
          "base_uri": "https://localhost:8080/",
          "height": 163
        },
        "id": "vcXflz5iU-If",
        "outputId": "e7f15cff-32a8-4ef4-9daf-2ad135a1fbc3"
      },
      "source": [
        "ipl.get['CSK']"
      ],
      "execution_count": null,
      "outputs": [
        {
          "output_type": "error",
          "ename": "TypeError",
          "evalue": "ignored",
          "traceback": [
            "\u001b[0;31m---------------------------------------------------------------------------\u001b[0m",
            "\u001b[0;31mTypeError\u001b[0m                                 Traceback (most recent call last)",
            "\u001b[0;32m<ipython-input-31-546e3f4d0907>\u001b[0m in \u001b[0;36m<module>\u001b[0;34m()\u001b[0m\n\u001b[0;32m----> 1\u001b[0;31m \u001b[0mipl\u001b[0m\u001b[0;34m.\u001b[0m\u001b[0mget\u001b[0m\u001b[0;34m[\u001b[0m\u001b[0;34m'CSK'\u001b[0m\u001b[0;34m]\u001b[0m\u001b[0;34m\u001b[0m\u001b[0;34m\u001b[0m\u001b[0m\n\u001b[0m",
            "\u001b[0;31mTypeError\u001b[0m: 'builtin_function_or_method' object is not subscriptable"
          ]
        }
      ]
    },
    {
      "cell_type": "code",
      "metadata": {
        "id": "uX07LdQ5VBJU"
      },
      "source": [
        "result = ipl.get('CSK',-1)"
      ],
      "execution_count": null,
      "outputs": []
    },
    {
      "cell_type": "code",
      "metadata": {
        "colab": {
          "base_uri": "https://localhost:8080/"
        },
        "id": "KyXETZw8VNtF",
        "outputId": "4e7fd2cc-5b84-41f8-f115-3d2c065db33c"
      },
      "source": [
        "result"
      ],
      "execution_count": null,
      "outputs": [
        {
          "output_type": "execute_result",
          "data": {
            "text/plain": [
              "-1"
            ]
          },
          "metadata": {
            "tags": []
          },
          "execution_count": 33
        }
      ]
    },
    {
      "cell_type": "code",
      "metadata": {
        "colab": {
          "base_uri": "https://localhost:8080/"
        },
        "id": "HcKRAcE7VP1d",
        "outputId": "dccf604b-dba0-4440-c5da-ffa7ffbe9297"
      },
      "source": [
        "results = ipl.get('MI',-1)\n",
        "results"
      ],
      "execution_count": null,
      "outputs": [
        {
          "output_type": "execute_result",
          "data": {
            "text/plain": [
              "['Rohit', 'Surya', 'Hardik']"
            ]
          },
          "metadata": {
            "tags": []
          },
          "execution_count": 34
        }
      ]
    },
    {
      "cell_type": "code",
      "metadata": {
        "colab": {
          "base_uri": "https://localhost:8080/"
        },
        "id": "_O0OoeDHVWO-",
        "outputId": "48cfe9dc-0114-49bd-9f36-1dbf4904a61a"
      },
      "source": [
        "ipl.items()"
      ],
      "execution_count": null,
      "outputs": [
        {
          "output_type": "execute_result",
          "data": {
            "text/plain": [
              "dict_items([('MI', ['Rohit', 'Surya', 'Hardik']), ('RCB', ('Virat', 'Abd')), ('Mumbai', ['Rohit', 'Surya', 'Hardik']), ('mi', 'no mi lower')])"
            ]
          },
          "metadata": {
            "tags": []
          },
          "execution_count": 35
        }
      ]
    },
    {
      "cell_type": "code",
      "metadata": {
        "colab": {
          "base_uri": "https://localhost:8080/"
        },
        "id": "-9I_W4gEVkRT",
        "outputId": "2e1467a8-bf5b-425c-ae32-63589fb85d7d"
      },
      "source": [
        "ipl.keys()"
      ],
      "execution_count": null,
      "outputs": [
        {
          "output_type": "execute_result",
          "data": {
            "text/plain": [
              "dict_keys(['MI', 'RCB', 'Mumbai', 'mi'])"
            ]
          },
          "metadata": {
            "tags": []
          },
          "execution_count": 36
        }
      ]
    },
    {
      "cell_type": "code",
      "metadata": {
        "colab": {
          "base_uri": "https://localhost:8080/"
        },
        "id": "d5gl6y7cV3uB",
        "outputId": "466ad59e-fbd0-4ee5-fccc-d9d6e3738800"
      },
      "source": [
        "ipl.values()"
      ],
      "execution_count": null,
      "outputs": [
        {
          "output_type": "execute_result",
          "data": {
            "text/plain": [
              "dict_values([['Rohit', 'Surya', 'Hardik'], ('Virat', 'Abd'), ['Rohit', 'Surya', 'Hardik'], 'no mi lower'])"
            ]
          },
          "metadata": {
            "tags": []
          },
          "execution_count": 37
        }
      ]
    },
    {
      "cell_type": "code",
      "metadata": {
        "id": "WlZZ1oJMV6Jy"
      },
      "source": [
        ""
      ],
      "execution_count": null,
      "outputs": []
    },
    {
      "cell_type": "code",
      "metadata": {
        "colab": {
          "base_uri": "https://localhost:8080/"
        },
        "id": "TXAL_0qMWHWC",
        "outputId": "d6d72231-b438-4a46-e016-c92b0fcb5174"
      },
      "source": [
        "fruits"
      ],
      "execution_count": null,
      "outputs": [
        {
          "output_type": "execute_result",
          "data": {
            "text/plain": [
              "{'a': 'apricot',\n",
              " 'b': 'banana',\n",
              " 'c': 'Cherry',\n",
              " 'p': 'papaya',\n",
              " 's': 'cherry',\n",
              " 'w': 'watermelon'}"
            ]
          },
          "metadata": {
            "tags": []
          },
          "execution_count": 39
        }
      ]
    },
    {
      "cell_type": "code",
      "metadata": {
        "colab": {
          "base_uri": "https://localhost:8080/"
        },
        "id": "g-TydoyOV_Ku",
        "outputId": "13cd8873-9377-41ce-bfe6-59b856d1b396"
      },
      "source": [
        "fruits.items()"
      ],
      "execution_count": null,
      "outputs": [
        {
          "output_type": "execute_result",
          "data": {
            "text/plain": [
              "dict_items([('a', 'apricot'), ('b', 'banana'), ('c', 'Cherry'), ('w', 'watermelon'), ('p', 'papaya'), ('s', 'cherry')])"
            ]
          },
          "metadata": {
            "tags": []
          },
          "execution_count": 38
        }
      ]
    },
    {
      "cell_type": "code",
      "metadata": {
        "colab": {
          "base_uri": "https://localhost:8080/"
        },
        "id": "XzvI0eA3W0k_",
        "outputId": "5c9b767e-5641-4564-a67d-f40b22564f3e"
      },
      "source": [
        "fruits.items()"
      ],
      "execution_count": null,
      "outputs": [
        {
          "output_type": "execute_result",
          "data": {
            "text/plain": [
              "dict_items([('a', 'apricot'), ('b', 'banana'), ('c', 'Cherry'), ('w', 'watermelon'), ('p', 'papaya'), ('s', 'cherry')])"
            ]
          },
          "metadata": {
            "tags": []
          },
          "execution_count": 40
        }
      ]
    },
    {
      "cell_type": "code",
      "metadata": {
        "colab": {
          "base_uri": "https://localhost:8080/"
        },
        "id": "4GEDGhF0XIUa",
        "outputId": "e1eb6802-919a-472d-b0b6-03897b433cc9"
      },
      "source": [
        "list(fruits.items())[0]"
      ],
      "execution_count": null,
      "outputs": [
        {
          "output_type": "execute_result",
          "data": {
            "text/plain": [
              "('a', 'apricot')"
            ]
          },
          "metadata": {
            "tags": []
          },
          "execution_count": 41
        }
      ]
    },
    {
      "cell_type": "code",
      "metadata": {
        "colab": {
          "base_uri": "https://localhost:8080/",
          "height": 35
        },
        "id": "YByI9K_yXPuY",
        "outputId": "1f799de6-b3a4-4678-c326-10c2d01ecad9"
      },
      "source": [
        "list(fruits.items())[0][1]"
      ],
      "execution_count": null,
      "outputs": [
        {
          "output_type": "execute_result",
          "data": {
            "application/vnd.google.colaboratory.intrinsic+json": {
              "type": "string"
            },
            "text/plain": [
              "'apricot'"
            ]
          },
          "metadata": {
            "tags": []
          },
          "execution_count": 45
        }
      ]
    },
    {
      "cell_type": "code",
      "metadata": {
        "colab": {
          "base_uri": "https://localhost:8080/",
          "height": 35
        },
        "id": "G1kv88LyX8Yg",
        "outputId": "0fce3f7f-68a6-49d6-9d07-b2e458432fc6"
      },
      "source": [
        "fruits.pop('c')"
      ],
      "execution_count": null,
      "outputs": [
        {
          "output_type": "execute_result",
          "data": {
            "application/vnd.google.colaboratory.intrinsic+json": {
              "type": "string"
            },
            "text/plain": [
              "'Cherry'"
            ]
          },
          "metadata": {
            "tags": []
          },
          "execution_count": 46
        }
      ]
    },
    {
      "cell_type": "code",
      "metadata": {
        "colab": {
          "base_uri": "https://localhost:8080/",
          "height": 163
        },
        "id": "WqgRTjprX8Vy",
        "outputId": "33411843-d0af-4e84-b514-7f5c9c9a97f3"
      },
      "source": [
        "fruits.pop('csk')"
      ],
      "execution_count": null,
      "outputs": [
        {
          "output_type": "error",
          "ename": "KeyError",
          "evalue": "ignored",
          "traceback": [
            "\u001b[0;31m---------------------------------------------------------------------------\u001b[0m",
            "\u001b[0;31mKeyError\u001b[0m                                  Traceback (most recent call last)",
            "\u001b[0;32m<ipython-input-47-596df0c671d7>\u001b[0m in \u001b[0;36m<module>\u001b[0;34m()\u001b[0m\n\u001b[0;32m----> 1\u001b[0;31m \u001b[0mfruits\u001b[0m\u001b[0;34m.\u001b[0m\u001b[0mpop\u001b[0m\u001b[0;34m(\u001b[0m\u001b[0;34m'csk'\u001b[0m\u001b[0;34m)\u001b[0m\u001b[0;34m\u001b[0m\u001b[0;34m\u001b[0m\u001b[0m\n\u001b[0m",
            "\u001b[0;31mKeyError\u001b[0m: 'csk'"
          ]
        }
      ]
    },
    {
      "cell_type": "code",
      "metadata": {
        "colab": {
          "base_uri": "https://localhost:8080/"
        },
        "id": "HymegtY_YHAG",
        "outputId": "52603999-d478-490d-8a19-f03445021767"
      },
      "source": [
        "fruits.pop('csk',-1)"
      ],
      "execution_count": null,
      "outputs": [
        {
          "output_type": "execute_result",
          "data": {
            "text/plain": [
              "-1"
            ]
          },
          "metadata": {
            "tags": []
          },
          "execution_count": 48
        }
      ]
    },
    {
      "cell_type": "code",
      "metadata": {
        "id": "Gcy25oU0YLeF"
      },
      "source": [
        "#pop item"
      ],
      "execution_count": null,
      "outputs": []
    },
    {
      "cell_type": "code",
      "metadata": {
        "colab": {
          "base_uri": "https://localhost:8080/"
        },
        "id": "Ml9SFVQtYWjR",
        "outputId": "9d67eca4-af22-4be8-9df9-c46dc537a6ee"
      },
      "source": [
        "fruits.popitem()"
      ],
      "execution_count": null,
      "outputs": [
        {
          "output_type": "execute_result",
          "data": {
            "text/plain": [
              "('s', 'cherry')"
            ]
          },
          "metadata": {
            "tags": []
          },
          "execution_count": 50
        }
      ]
    },
    {
      "cell_type": "code",
      "metadata": {
        "colab": {
          "base_uri": "https://localhost:8080/"
        },
        "id": "vt3BbKXXYaDH",
        "outputId": "e5caae76-4922-489f-fb5d-34a1cb83c774"
      },
      "source": [
        "fruits"
      ],
      "execution_count": null,
      "outputs": [
        {
          "output_type": "execute_result",
          "data": {
            "text/plain": [
              "{'a': 'apricot', 'b': 'banana', 'p': 'papaya', 'w': 'watermelon'}"
            ]
          },
          "metadata": {
            "tags": []
          },
          "execution_count": 51
        }
      ]
    },
    {
      "cell_type": "code",
      "metadata": {
        "colab": {
          "base_uri": "https://localhost:8080/"
        },
        "id": "cNJobYK8YzRz",
        "outputId": "7f1ac72b-0414-4b2f-c79c-c4f543ba7ea9"
      },
      "source": [
        "ipl"
      ],
      "execution_count": null,
      "outputs": [
        {
          "output_type": "execute_result",
          "data": {
            "text/plain": [
              "{'MI': ['Rohit', 'Surya', 'Hardik'],\n",
              " 'Mumbai': ['Rohit', 'Surya', 'Hardik'],\n",
              " 'RCB': ('Virat', 'Abd'),\n",
              " 'mi': 'no mi lower'}"
            ]
          },
          "metadata": {
            "tags": []
          },
          "execution_count": 53
        }
      ]
    },
    {
      "cell_type": "code",
      "metadata": {
        "colab": {
          "base_uri": "https://localhost:8080/",
          "height": 163
        },
        "id": "HQzDqu-OYged",
        "outputId": "5e40ab09-c29f-4aba-f835-31f01b3788da"
      },
      "source": [
        "ipl['RCB'].remove('Abd')"
      ],
      "execution_count": null,
      "outputs": [
        {
          "output_type": "error",
          "ename": "AttributeError",
          "evalue": "ignored",
          "traceback": [
            "\u001b[0;31m---------------------------------------------------------------------------\u001b[0m",
            "\u001b[0;31mAttributeError\u001b[0m                            Traceback (most recent call last)",
            "\u001b[0;32m<ipython-input-52-f49f81295255>\u001b[0m in \u001b[0;36m<module>\u001b[0;34m()\u001b[0m\n\u001b[0;32m----> 1\u001b[0;31m \u001b[0mipl\u001b[0m\u001b[0;34m[\u001b[0m\u001b[0;34m'RCB'\u001b[0m\u001b[0;34m]\u001b[0m\u001b[0;34m.\u001b[0m\u001b[0mremove\u001b[0m\u001b[0;34m(\u001b[0m\u001b[0;34m'Abd'\u001b[0m\u001b[0;34m)\u001b[0m\u001b[0;34m\u001b[0m\u001b[0;34m\u001b[0m\u001b[0m\n\u001b[0m",
            "\u001b[0;31mAttributeError\u001b[0m: 'tuple' object has no attribute 'remove'"
          ]
        }
      ]
    },
    {
      "cell_type": "code",
      "metadata": {
        "colab": {
          "base_uri": "https://localhost:8080/",
          "height": 163
        },
        "id": "LvzBiWdhYxxC",
        "outputId": "d220302c-99b4-4a2a-9b86-dd28d9c10f34"
      },
      "source": [
        "ipl['RCB'].pop(-1)"
      ],
      "execution_count": null,
      "outputs": [
        {
          "output_type": "error",
          "ename": "AttributeError",
          "evalue": "ignored",
          "traceback": [
            "\u001b[0;31m---------------------------------------------------------------------------\u001b[0m",
            "\u001b[0;31mAttributeError\u001b[0m                            Traceback (most recent call last)",
            "\u001b[0;32m<ipython-input-54-0ed2c1b042a7>\u001b[0m in \u001b[0;36m<module>\u001b[0;34m()\u001b[0m\n\u001b[0;32m----> 1\u001b[0;31m \u001b[0mipl\u001b[0m\u001b[0;34m[\u001b[0m\u001b[0;34m'RCB'\u001b[0m\u001b[0;34m]\u001b[0m\u001b[0;34m.\u001b[0m\u001b[0mpop\u001b[0m\u001b[0;34m(\u001b[0m\u001b[0;34m-\u001b[0m\u001b[0;36m1\u001b[0m\u001b[0;34m)\u001b[0m\u001b[0;34m\u001b[0m\u001b[0;34m\u001b[0m\u001b[0m\n\u001b[0m",
            "\u001b[0;31mAttributeError\u001b[0m: 'tuple' object has no attribute 'pop'"
          ]
        }
      ]
    },
    {
      "cell_type": "code",
      "metadata": {
        "id": "olM5pzPWZRK_"
      },
      "source": [
        "alphabets"
      ],
      "execution_count": null,
      "outputs": []
    }
  ]
}