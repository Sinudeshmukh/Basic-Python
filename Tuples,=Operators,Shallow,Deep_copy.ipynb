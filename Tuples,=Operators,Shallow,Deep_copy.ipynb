{
  "nbformat": 4,
  "nbformat_minor": 0,
  "metadata": {
    "colab": {
      "name": "Tuples,=Operators,Shallow,Deep copy.ipynb",
      "provenance": [],
      "authorship_tag": "ABX9TyObPsxG82M3Iv7MzUU1Yoze",
      "include_colab_link": true
    },
    "kernelspec": {
      "name": "python3",
      "display_name": "Python 3"
    }
  },
  "cells": [
    {
      "cell_type": "markdown",
      "metadata": {
        "id": "view-in-github",
        "colab_type": "text"
      },
      "source": [
        "<a href=\"https://colab.research.google.com/github/Sinudeshmukh/Basic-Python/blob/main/Tuples%2C%3DOperators%2CShallow%2CDeep_copy.ipynb\" target=\"_parent\"><img src=\"https://colab.research.google.com/assets/colab-badge.svg\" alt=\"Open In Colab\"/></a>"
      ]
    },
    {
      "cell_type": "markdown",
      "metadata": {
        "id": "BxX-1wsbHNCZ"
      },
      "source": [
        "##Tuples\n",
        "\n",
        "\n",
        "*   Ordered Cllection of items/elements\n",
        "*   Immutable\n",
        "*   syntax: ()\n",
        "\n"
      ]
    },
    {
      "cell_type": "code",
      "metadata": {
        "id": "ikQe5O8uHFz9"
      },
      "source": [
        "players = ('virat','Dhoni','Rohit')"
      ],
      "execution_count": null,
      "outputs": []
    },
    {
      "cell_type": "code",
      "metadata": {
        "colab": {
          "base_uri": "https://localhost:8080/"
        },
        "id": "gHWMURV1HmuO",
        "outputId": "2d1e2c2a-69d9-47c1-fffa-731a315876da"
      },
      "source": [
        "type(players)"
      ],
      "execution_count": null,
      "outputs": [
        {
          "output_type": "execute_result",
          "data": {
            "text/plain": [
              "tuple"
            ]
          },
          "metadata": {
            "tags": []
          },
          "execution_count": 2
        }
      ]
    },
    {
      "cell_type": "code",
      "metadata": {
        "id": "LMaLy4z9fVEr"
      },
      "source": [
        "a= 'sinu',10,'monu'"
      ],
      "execution_count": 40,
      "outputs": []
    },
    {
      "cell_type": "code",
      "metadata": {
        "colab": {
          "base_uri": "https://localhost:8080/"
        },
        "id": "ecEgPqgAfZFe",
        "outputId": "486b1694-013d-4b55-e5c7-9861072b6af9"
      },
      "source": [
        "type(a)"
      ],
      "execution_count": 41,
      "outputs": [
        {
          "output_type": "execute_result",
          "data": {
            "text/plain": [
              "tuple"
            ]
          },
          "metadata": {
            "tags": []
          },
          "execution_count": 41
        }
      ]
    },
    {
      "cell_type": "markdown",
      "metadata": {
        "id": "mIuUDrfxHq__"
      },
      "source": [
        "###To access elements Use[ ] - Square or subscript Operator"
      ]
    },
    {
      "cell_type": "code",
      "metadata": {
        "colab": {
          "base_uri": "https://localhost:8080/",
          "height": 35
        },
        "id": "_ADdIHjZHoUB",
        "outputId": "1653294a-6228-4e66-8836-ff9edc9a0a25"
      },
      "source": [
        "players[0]"
      ],
      "execution_count": null,
      "outputs": [
        {
          "output_type": "execute_result",
          "data": {
            "application/vnd.google.colaboratory.intrinsic+json": {
              "type": "string"
            },
            "text/plain": [
              "'virat'"
            ]
          },
          "metadata": {
            "tags": []
          },
          "execution_count": 3
        }
      ]
    },
    {
      "cell_type": "code",
      "metadata": {
        "colab": {
          "base_uri": "https://localhost:8080/"
        },
        "id": "tvr9x-DAH7jB",
        "outputId": "afa88997-f856-438f-c221-8ec0bd79732b"
      },
      "source": [
        "len(players)"
      ],
      "execution_count": null,
      "outputs": [
        {
          "output_type": "execute_result",
          "data": {
            "text/plain": [
              "3"
            ]
          },
          "metadata": {
            "tags": []
          },
          "execution_count": 4
        }
      ]
    },
    {
      "cell_type": "code",
      "metadata": {
        "colab": {
          "base_uri": "https://localhost:8080/",
          "height": 35
        },
        "id": "RrXMWKcLH_lb",
        "outputId": "f11f3b14-dd8d-4b76-8b0e-85da29ba135d"
      },
      "source": [
        "players[-1]"
      ],
      "execution_count": null,
      "outputs": [
        {
          "output_type": "execute_result",
          "data": {
            "application/vnd.google.colaboratory.intrinsic+json": {
              "type": "string"
            },
            "text/plain": [
              "'Rohit'"
            ]
          },
          "metadata": {
            "tags": []
          },
          "execution_count": 5
        }
      ]
    },
    {
      "cell_type": "code",
      "metadata": {
        "colab": {
          "base_uri": "https://localhost:8080/"
        },
        "id": "FpdUrOCQIB2U",
        "outputId": "3094985a-ec56-4e1c-9934-f6b62728d0c0"
      },
      "source": [
        "players[0:]"
      ],
      "execution_count": null,
      "outputs": [
        {
          "output_type": "execute_result",
          "data": {
            "text/plain": [
              "('virat', 'Dhoni', 'Rohit')"
            ]
          },
          "metadata": {
            "tags": []
          },
          "execution_count": 6
        }
      ]
    },
    {
      "cell_type": "code",
      "metadata": {
        "colab": {
          "base_uri": "https://localhost:8080/"
        },
        "id": "Yr1bd-BFIEIW",
        "outputId": "01decd6d-b113-41c7-a9a5-28928909f51a"
      },
      "source": [
        "players.count('virat')"
      ],
      "execution_count": null,
      "outputs": [
        {
          "output_type": "execute_result",
          "data": {
            "text/plain": [
              "1"
            ]
          },
          "metadata": {
            "tags": []
          },
          "execution_count": 7
        }
      ]
    },
    {
      "cell_type": "code",
      "metadata": {
        "colab": {
          "base_uri": "https://localhost:8080/"
        },
        "id": "nS7jeHwKIdUA",
        "outputId": "050412c0-1181-4268-d79b-3149781e497e"
      },
      "source": [
        "players.index('virat')"
      ],
      "execution_count": null,
      "outputs": [
        {
          "output_type": "execute_result",
          "data": {
            "text/plain": [
              "0"
            ]
          },
          "metadata": {
            "tags": []
          },
          "execution_count": 8
        }
      ]
    },
    {
      "cell_type": "code",
      "metadata": {
        "colab": {
          "base_uri": "https://localhost:8080/"
        },
        "id": "TmaedStmIgt0",
        "outputId": "f42ce496-b3df-4788-ca18-dad9c7ce24f0"
      },
      "source": [
        "players.index('Rohit')"
      ],
      "execution_count": null,
      "outputs": [
        {
          "output_type": "execute_result",
          "data": {
            "text/plain": [
              "2"
            ]
          },
          "metadata": {
            "tags": []
          },
          "execution_count": 10
        }
      ]
    },
    {
      "cell_type": "code",
      "metadata": {
        "colab": {
          "base_uri": "https://localhost:8080/",
          "height": 163
        },
        "id": "FJT013N5IqyY",
        "outputId": "d1c4d967-9ba7-4cf2-ce4a-cbb2d9e8df69"
      },
      "source": [
        "players[0] = 'Sinu'"
      ],
      "execution_count": null,
      "outputs": [
        {
          "output_type": "error",
          "ename": "TypeError",
          "evalue": "ignored",
          "traceback": [
            "\u001b[0;31m---------------------------------------------------------------------------\u001b[0m",
            "\u001b[0;31mTypeError\u001b[0m                                 Traceback (most recent call last)",
            "\u001b[0;32m<ipython-input-11-5d475a409146>\u001b[0m in \u001b[0;36m<module>\u001b[0;34m()\u001b[0m\n\u001b[0;32m----> 1\u001b[0;31m \u001b[0mplayers\u001b[0m\u001b[0;34m[\u001b[0m\u001b[0;36m0\u001b[0m\u001b[0;34m]\u001b[0m \u001b[0;34m=\u001b[0m \u001b[0;34m'Sinu'\u001b[0m\u001b[0;34m\u001b[0m\u001b[0;34m\u001b[0m\u001b[0m\n\u001b[0m",
            "\u001b[0;31mTypeError\u001b[0m: 'tuple' object does not support item assignment"
          ]
        }
      ]
    },
    {
      "cell_type": "code",
      "metadata": {
        "id": "Ymsbjc9RI7Sz"
      },
      "source": [
        "t = (111,[1,2,3],123,122)"
      ],
      "execution_count": null,
      "outputs": []
    },
    {
      "cell_type": "code",
      "metadata": {
        "colab": {
          "base_uri": "https://localhost:8080/"
        },
        "id": "GY18ayr2JKQ1",
        "outputId": "04059e1c-9cd6-4c3f-9e3a-c91a128e87a1"
      },
      "source": [
        "t[1]"
      ],
      "execution_count": null,
      "outputs": [
        {
          "output_type": "execute_result",
          "data": {
            "text/plain": [
              "[1, 2, 3]"
            ]
          },
          "metadata": {
            "tags": []
          },
          "execution_count": 13
        }
      ]
    },
    {
      "cell_type": "code",
      "metadata": {
        "colab": {
          "base_uri": "https://localhost:8080/"
        },
        "id": "Xki7makyJL7E",
        "outputId": "4f701f8c-437a-4ef1-bca8-f71d4b1ece74"
      },
      "source": [
        "t[1]"
      ],
      "execution_count": null,
      "outputs": [
        {
          "output_type": "execute_result",
          "data": {
            "text/plain": [
              "[1, 2, 3]"
            ]
          },
          "metadata": {
            "tags": []
          },
          "execution_count": 14
        }
      ]
    },
    {
      "cell_type": "code",
      "metadata": {
        "id": "fYa-CVKOJZBs"
      },
      "source": [
        "t[1].append(4)"
      ],
      "execution_count": null,
      "outputs": []
    },
    {
      "cell_type": "code",
      "metadata": {
        "colab": {
          "base_uri": "https://localhost:8080/"
        },
        "id": "sDZqDDDfJb-P",
        "outputId": "8f656417-582f-40d8-db4a-5bd5fd7bed51"
      },
      "source": [
        "t[1]"
      ],
      "execution_count": null,
      "outputs": [
        {
          "output_type": "execute_result",
          "data": {
            "text/plain": [
              "[1, 2, 3, 4]"
            ]
          },
          "metadata": {
            "tags": []
          },
          "execution_count": 16
        }
      ]
    },
    {
      "cell_type": "code",
      "metadata": {
        "colab": {
          "base_uri": "https://localhost:8080/",
          "height": 163
        },
        "id": "KWa9GypgJdYA",
        "outputId": "01fe81a3-8987-4b18-af17-8376c7ba04d3"
      },
      "source": [
        "t[0] = 100"
      ],
      "execution_count": null,
      "outputs": [
        {
          "output_type": "error",
          "ename": "TypeError",
          "evalue": "ignored",
          "traceback": [
            "\u001b[0;31m---------------------------------------------------------------------------\u001b[0m",
            "\u001b[0;31mTypeError\u001b[0m                                 Traceback (most recent call last)",
            "\u001b[0;32m<ipython-input-17-e6cf7836e708>\u001b[0m in \u001b[0;36m<module>\u001b[0;34m()\u001b[0m\n\u001b[0;32m----> 1\u001b[0;31m \u001b[0mt\u001b[0m\u001b[0;34m[\u001b[0m\u001b[0;36m0\u001b[0m\u001b[0;34m]\u001b[0m \u001b[0;34m=\u001b[0m \u001b[0;36m100\u001b[0m\u001b[0;34m\u001b[0m\u001b[0;34m\u001b[0m\u001b[0m\n\u001b[0m",
            "\u001b[0;31mTypeError\u001b[0m: 'tuple' object does not support item assignment"
          ]
        }
      ]
    },
    {
      "cell_type": "markdown",
      "metadata": {
        "id": "hKCjwPcfK0Hx"
      },
      "source": [
        "# **= Operator,Shallow Copy and Deep Copy**"
      ]
    },
    {
      "cell_type": "markdown",
      "metadata": {
        "id": "kSXScjG_aMik"
      },
      "source": [
        "## = Operator"
      ]
    },
    {
      "cell_type": "code",
      "metadata": {
        "id": "VBXBVk2QJ48t"
      },
      "source": [
        "team_a = ['Sinu','Alok','Akash']"
      ],
      "execution_count": 2,
      "outputs": []
    },
    {
      "cell_type": "code",
      "metadata": {
        "id": "BSGL-DA6LGz8"
      },
      "source": [
        "team_b = team_a"
      ],
      "execution_count": 3,
      "outputs": []
    },
    {
      "cell_type": "code",
      "metadata": {
        "id": "Q1UeUhqYLKp6"
      },
      "source": [
        "team_a.append('ajit')"
      ],
      "execution_count": 4,
      "outputs": []
    },
    {
      "cell_type": "code",
      "metadata": {
        "colab": {
          "base_uri": "https://localhost:8080/"
        },
        "id": "AQqbB3jqLOTx",
        "outputId": "88fe3deb-2f68-4e75-b30e-47a6506382f0"
      },
      "source": [
        "team_b"
      ],
      "execution_count": 5,
      "outputs": [
        {
          "output_type": "execute_result",
          "data": {
            "text/plain": [
              "['Sinu', 'Alok', 'Akash', 'ajit']"
            ]
          },
          "metadata": {
            "tags": []
          },
          "execution_count": 5
        }
      ]
    },
    {
      "cell_type": "code",
      "metadata": {
        "id": "iUEeTrdjLQm3"
      },
      "source": [
        "team_b.append('Nams')"
      ],
      "execution_count": 6,
      "outputs": []
    },
    {
      "cell_type": "code",
      "metadata": {
        "colab": {
          "base_uri": "https://localhost:8080/"
        },
        "id": "9pKaqmSGLZRb",
        "outputId": "dafddfee-ef74-4e21-e047-5f17a759c03a"
      },
      "source": [
        "team_a"
      ],
      "execution_count": 7,
      "outputs": [
        {
          "output_type": "execute_result",
          "data": {
            "text/plain": [
              "['Sinu', 'Alok', 'Akash', 'ajit', 'Nams']"
            ]
          },
          "metadata": {
            "tags": []
          },
          "execution_count": 7
        }
      ]
    },
    {
      "cell_type": "markdown",
      "metadata": {
        "id": "WTVAw8TcawqY"
      },
      "source": [
        "[ : ] "
      ]
    },
    {
      "cell_type": "code",
      "metadata": {
        "id": "8CPDpMPsLaMR"
      },
      "source": [
        "team_c = team_a[:]"
      ],
      "execution_count": 9,
      "outputs": []
    },
    {
      "cell_type": "code",
      "metadata": {
        "colab": {
          "base_uri": "https://localhost:8080/"
        },
        "id": "VW8q7wWrLuZE",
        "outputId": "e95c86a8-4e57-4b5b-f8bb-7f758f917994"
      },
      "source": [
        "team_a"
      ],
      "execution_count": 8,
      "outputs": [
        {
          "output_type": "execute_result",
          "data": {
            "text/plain": [
              "['Sinu', 'Alok', 'Akash', 'ajit', 'Nams']"
            ]
          },
          "metadata": {
            "tags": []
          },
          "execution_count": 8
        }
      ]
    },
    {
      "cell_type": "code",
      "metadata": {
        "colab": {
          "base_uri": "https://localhost:8080/"
        },
        "id": "tdlWwe2UL0AP",
        "outputId": "8c79c4df-1537-4164-e6a8-2e64cf4ab489"
      },
      "source": [
        "team_b"
      ],
      "execution_count": 10,
      "outputs": [
        {
          "output_type": "execute_result",
          "data": {
            "text/plain": [
              "['Sinu', 'Alok', 'Akash', 'ajit', 'Nams']"
            ]
          },
          "metadata": {
            "tags": []
          },
          "execution_count": 10
        }
      ]
    },
    {
      "cell_type": "code",
      "metadata": {
        "colab": {
          "base_uri": "https://localhost:8080/"
        },
        "id": "dL7tklUxL099",
        "outputId": "213f2c9f-0483-4941-a18d-18eb8bae7817"
      },
      "source": [
        "team_c"
      ],
      "execution_count": 11,
      "outputs": [
        {
          "output_type": "execute_result",
          "data": {
            "text/plain": [
              "['Sinu', 'Alok', 'Akash', 'ajit', 'Nams']"
            ]
          },
          "metadata": {
            "tags": []
          },
          "execution_count": 11
        }
      ]
    },
    {
      "cell_type": "code",
      "metadata": {
        "id": "35cKlJKFL2av"
      },
      "source": [
        "team_a.append('jay')"
      ],
      "execution_count": 12,
      "outputs": []
    },
    {
      "cell_type": "code",
      "metadata": {
        "colab": {
          "base_uri": "https://localhost:8080/"
        },
        "id": "jOJUGyjYL7G9",
        "outputId": "51dc88f7-7af9-403d-d48f-6ec6c1fd4c32"
      },
      "source": [
        "team_b"
      ],
      "execution_count": 13,
      "outputs": [
        {
          "output_type": "execute_result",
          "data": {
            "text/plain": [
              "['Sinu', 'Alok', 'Akash', 'ajit', 'Nams', 'jay']"
            ]
          },
          "metadata": {
            "tags": []
          },
          "execution_count": 13
        }
      ]
    },
    {
      "cell_type": "code",
      "metadata": {
        "colab": {
          "base_uri": "https://localhost:8080/"
        },
        "id": "07qDb3mtL82A",
        "outputId": "54caf825-e2da-416e-e413-b1455961fdf7"
      },
      "source": [
        "team_c"
      ],
      "execution_count": 14,
      "outputs": [
        {
          "output_type": "execute_result",
          "data": {
            "text/plain": [
              "['Sinu', 'Alok', 'Akash', 'ajit', 'Nams']"
            ]
          },
          "metadata": {
            "tags": []
          },
          "execution_count": 14
        }
      ]
    },
    {
      "cell_type": "code",
      "metadata": {
        "colab": {
          "base_uri": "https://localhost:8080/"
        },
        "id": "93JeuL6BL95R",
        "outputId": "6e2280ed-53cd-4786-900e-65107aa6504b"
      },
      "source": [
        "#address of object\n",
        "id(team_a)"
      ],
      "execution_count": 15,
      "outputs": [
        {
          "output_type": "execute_result",
          "data": {
            "text/plain": [
              "140098817096432"
            ]
          },
          "metadata": {
            "tags": []
          },
          "execution_count": 15
        }
      ]
    },
    {
      "cell_type": "code",
      "metadata": {
        "colab": {
          "base_uri": "https://localhost:8080/"
        },
        "id": "-Y-2YKQiMUzx",
        "outputId": "24094ed6-82e7-4555-b957-ae998c1fb0b0"
      },
      "source": [
        "id(team_b)"
      ],
      "execution_count": 16,
      "outputs": [
        {
          "output_type": "execute_result",
          "data": {
            "text/plain": [
              "140098817096432"
            ]
          },
          "metadata": {
            "tags": []
          },
          "execution_count": 16
        }
      ]
    },
    {
      "cell_type": "code",
      "metadata": {
        "colab": {
          "base_uri": "https://localhost:8080/"
        },
        "id": "Fvm5uphPMWbI",
        "outputId": "62a08437-4675-4e34-bc9a-2ab27d4b6730"
      },
      "source": [
        "id(team_c)"
      ],
      "execution_count": 17,
      "outputs": [
        {
          "output_type": "execute_result",
          "data": {
            "text/plain": [
              "140098817295936"
            ]
          },
          "metadata": {
            "tags": []
          },
          "execution_count": 17
        }
      ]
    },
    {
      "cell_type": "code",
      "metadata": {
        "id": "prle5HVQMZ5L"
      },
      "source": [
        "team_a[1] = 'Anand'"
      ],
      "execution_count": 18,
      "outputs": []
    },
    {
      "cell_type": "code",
      "metadata": {
        "colab": {
          "base_uri": "https://localhost:8080/"
        },
        "id": "IxpAlhh2MisR",
        "outputId": "5fa94f18-a789-48ec-d2d4-5f42eaf9274b"
      },
      "source": [
        "team_b"
      ],
      "execution_count": 19,
      "outputs": [
        {
          "output_type": "execute_result",
          "data": {
            "text/plain": [
              "['Sinu', 'Anand', 'Akash', 'ajit', 'Nams', 'jay']"
            ]
          },
          "metadata": {
            "tags": []
          },
          "execution_count": 19
        }
      ]
    },
    {
      "cell_type": "code",
      "metadata": {
        "colab": {
          "base_uri": "https://localhost:8080/"
        },
        "id": "Ta6-9IXzMkPd",
        "outputId": "cf19626c-c527-4bcd-ec1b-1e123acaca87"
      },
      "source": [
        "team_c"
      ],
      "execution_count": 20,
      "outputs": [
        {
          "output_type": "execute_result",
          "data": {
            "text/plain": [
              "['Sinu', 'Alok', 'Akash', 'ajit', 'Nams']"
            ]
          },
          "metadata": {
            "tags": []
          },
          "execution_count": 20
        }
      ]
    },
    {
      "cell_type": "markdown",
      "metadata": {
        "id": "keUDN0-xcXAO"
      },
      "source": [
        "###list"
      ]
    },
    {
      "cell_type": "code",
      "metadata": {
        "id": "ZVvnborsMlqm"
      },
      "source": [
        "team_d = list(team_a)"
      ],
      "execution_count": 21,
      "outputs": []
    },
    {
      "cell_type": "code",
      "metadata": {
        "id": "dBds9i4IM-tX"
      },
      "source": [
        "team_a.append('Harry')"
      ],
      "execution_count": 22,
      "outputs": []
    },
    {
      "cell_type": "code",
      "metadata": {
        "colab": {
          "base_uri": "https://localhost:8080/"
        },
        "id": "ATXEpFI-NBrG",
        "outputId": "a211d552-3cfb-4069-93dc-2aef230eec26"
      },
      "source": [
        "team_d"
      ],
      "execution_count": 23,
      "outputs": [
        {
          "output_type": "execute_result",
          "data": {
            "text/plain": [
              "['Sinu', 'Anand', 'Akash', 'ajit', 'Nams', 'jay']"
            ]
          },
          "metadata": {
            "tags": []
          },
          "execution_count": 23
        }
      ]
    },
    {
      "cell_type": "markdown",
      "metadata": {
        "id": "9u1MXYKwLhr_"
      },
      "source": [
        "##Shallow Copy "
      ]
    },
    {
      "cell_type": "code",
      "metadata": {
        "id": "2CvZJS-XNKCS"
      },
      "source": [
        "team_e = team_a.copy()"
      ],
      "execution_count": 24,
      "outputs": []
    },
    {
      "cell_type": "code",
      "metadata": {
        "id": "kkB-sekvNO-z"
      },
      "source": [
        "team_a.append('Sam')"
      ],
      "execution_count": 25,
      "outputs": []
    },
    {
      "cell_type": "code",
      "metadata": {
        "colab": {
          "base_uri": "https://localhost:8080/"
        },
        "id": "k3cNF0WLdPVQ",
        "outputId": "c29ec9c1-eff6-44ed-8443-3c2e4a4a1cb8"
      },
      "source": [
        "team_a"
      ],
      "execution_count": 26,
      "outputs": [
        {
          "output_type": "execute_result",
          "data": {
            "text/plain": [
              "['Sinu', 'Anand', 'Akash', 'ajit', 'Nams', 'jay', 'Harry', 'Sam']"
            ]
          },
          "metadata": {
            "tags": []
          },
          "execution_count": 26
        }
      ]
    },
    {
      "cell_type": "code",
      "metadata": {
        "colab": {
          "base_uri": "https://localhost:8080/"
        },
        "id": "V0WRyI_RNWIw",
        "outputId": "a8f21535-fff7-4a16-ed7d-2dc316c4466b"
      },
      "source": [
        "team_e"
      ],
      "execution_count": 27,
      "outputs": [
        {
          "output_type": "execute_result",
          "data": {
            "text/plain": [
              "['Sinu', 'Anand', 'Akash', 'ajit', 'Nams', 'jay', 'Harry']"
            ]
          },
          "metadata": {
            "tags": []
          },
          "execution_count": 27
        }
      ]
    },
    {
      "cell_type": "code",
      "metadata": {
        "id": "_Aze0L1BNXF6"
      },
      "source": [
        "l1 = [1,[2,3,4],5,6,7]"
      ],
      "execution_count": 28,
      "outputs": []
    },
    {
      "cell_type": "code",
      "metadata": {
        "id": "h6WFCRHrda8_"
      },
      "source": [
        "l2 = l1.copy()"
      ],
      "execution_count": 29,
      "outputs": []
    },
    {
      "cell_type": "code",
      "metadata": {
        "id": "Q3HjPK88ddEw"
      },
      "source": [
        "l1.append(8)"
      ],
      "execution_count": 30,
      "outputs": []
    },
    {
      "cell_type": "code",
      "metadata": {
        "colab": {
          "base_uri": "https://localhost:8080/"
        },
        "id": "VyIi2IA-diR2",
        "outputId": "53d8848b-a81e-4e19-e5d6-4aa09a2e9a01"
      },
      "source": [
        "l2"
      ],
      "execution_count": 31,
      "outputs": [
        {
          "output_type": "execute_result",
          "data": {
            "text/plain": [
              "[1, [2, 3, 4], 5, 6, 7]"
            ]
          },
          "metadata": {
            "tags": []
          },
          "execution_count": 31
        }
      ]
    },
    {
      "cell_type": "code",
      "metadata": {
        "id": "afUj5RXidjRI"
      },
      "source": [
        "l1[1].append(5)"
      ],
      "execution_count": 32,
      "outputs": []
    },
    {
      "cell_type": "code",
      "metadata": {
        "colab": {
          "base_uri": "https://localhost:8080/"
        },
        "id": "Jjq33pQhdpPe",
        "outputId": "d304f927-70b6-424e-efba-9c01b485d14c"
      },
      "source": [
        "l2"
      ],
      "execution_count": 33,
      "outputs": [
        {
          "output_type": "execute_result",
          "data": {
            "text/plain": [
              "[1, [2, 3, 4, 5], 5, 6, 7]"
            ]
          },
          "metadata": {
            "tags": []
          },
          "execution_count": 33
        }
      ]
    },
    {
      "cell_type": "markdown",
      "metadata": {
        "id": "-aofXuMsdtUy"
      },
      "source": [
        "##For List Inside List any of the above functions are not applicable it changes the copied object as so we have deep Copy"
      ]
    },
    {
      "cell_type": "markdown",
      "metadata": {
        "id": "VkbJx8zAeV94"
      },
      "source": [
        "# **Deep Copy**"
      ]
    },
    {
      "cell_type": "code",
      "metadata": {
        "id": "bDhc0qojdpye"
      },
      "source": [
        "import copy"
      ],
      "execution_count": 34,
      "outputs": []
    },
    {
      "cell_type": "code",
      "metadata": {
        "id": "BnLFO5-weAGk"
      },
      "source": [
        "a1 = [1,[2,3,4],5,6,7]"
      ],
      "execution_count": 35,
      "outputs": []
    },
    {
      "cell_type": "code",
      "metadata": {
        "id": "b-7gYRAXehSL"
      },
      "source": [
        "a2 = copy.deepcopy(a1)"
      ],
      "execution_count": 36,
      "outputs": []
    },
    {
      "cell_type": "code",
      "metadata": {
        "id": "MmrpwPvsemfo"
      },
      "source": [
        "a1[1].append(5)"
      ],
      "execution_count": 37,
      "outputs": []
    },
    {
      "cell_type": "code",
      "metadata": {
        "colab": {
          "base_uri": "https://localhost:8080/"
        },
        "id": "bcw8NcQ6e74T",
        "outputId": "fc4c28f7-b0ce-4a76-d900-8f58b33da09d"
      },
      "source": [
        "a1"
      ],
      "execution_count": 38,
      "outputs": [
        {
          "output_type": "execute_result",
          "data": {
            "text/plain": [
              "[1, [2, 3, 4, 5], 5, 6, 7]"
            ]
          },
          "metadata": {
            "tags": []
          },
          "execution_count": 38
        }
      ]
    },
    {
      "cell_type": "code",
      "metadata": {
        "colab": {
          "base_uri": "https://localhost:8080/"
        },
        "id": "Z2b-Iz8se8uQ",
        "outputId": "31494487-98a7-45c1-986a-940d8d67d103"
      },
      "source": [
        "a2"
      ],
      "execution_count": 39,
      "outputs": [
        {
          "output_type": "execute_result",
          "data": {
            "text/plain": [
              "[1, [2, 3, 4], 5, 6, 7]"
            ]
          },
          "metadata": {
            "tags": []
          },
          "execution_count": 39
        }
      ]
    },
    {
      "cell_type": "markdown",
      "metadata": {
        "id": "KG8GEtnae_6S"
      },
      "source": [
        "##Deep copy doesn't allow to make any changes to the things inside copied object"
      ]
    },
    {
      "cell_type": "markdown",
      "metadata": {
        "id": "zXtfhnO8fkcI"
      },
      "source": [
        "##Practice"
      ]
    },
    {
      "cell_type": "code",
      "metadata": {
        "id": "JEQbl6ADfmEO"
      },
      "source": [
        "c = [\"India\", \"USA\", \"Srilanka\"]"
      ],
      "execution_count": 42,
      "outputs": []
    },
    {
      "cell_type": "code",
      "metadata": {
        "id": "pRqntNprfm1t"
      },
      "source": [
        "b = tuple(c)"
      ],
      "execution_count": 44,
      "outputs": []
    },
    {
      "cell_type": "code",
      "metadata": {
        "colab": {
          "base_uri": "https://localhost:8080/"
        },
        "id": "ZjT0hRz5fozn",
        "outputId": "131efe57-e40e-4a6a-eb4c-e3e09040e119"
      },
      "source": [
        "b"
      ],
      "execution_count": 45,
      "outputs": [
        {
          "output_type": "execute_result",
          "data": {
            "text/plain": [
              "('India', 'USA', 'Srilanka')"
            ]
          },
          "metadata": {
            "tags": []
          },
          "execution_count": 45
        }
      ]
    },
    {
      "cell_type": "code",
      "metadata": {
        "id": "JbNtXQY7fryU"
      },
      "source": [
        "a = list(b)"
      ],
      "execution_count": 46,
      "outputs": []
    },
    {
      "cell_type": "code",
      "metadata": {
        "colab": {
          "base_uri": "https://localhost:8080/"
        },
        "id": "2XktxDwZfvNf",
        "outputId": "362dcf8a-2c1b-4388-ac7e-357d06e55ad0"
      },
      "source": [
        "a"
      ],
      "execution_count": 47,
      "outputs": [
        {
          "output_type": "execute_result",
          "data": {
            "text/plain": [
              "['India', 'USA', 'Srilanka']"
            ]
          },
          "metadata": {
            "tags": []
          },
          "execution_count": 47
        }
      ]
    },
    {
      "cell_type": "code",
      "metadata": {
        "id": "0aBemfSAfybR"
      },
      "source": [
        "t2 = (\"18Mar\")"
      ],
      "execution_count": 48,
      "outputs": []
    },
    {
      "cell_type": "code",
      "metadata": {
        "colab": {
          "base_uri": "https://localhost:8080/"
        },
        "id": "nxQKYNetf9QS",
        "outputId": "0417ff8b-8038-46d8-f142-fecc2a6b0d9a"
      },
      "source": [
        "type(t2)"
      ],
      "execution_count": 49,
      "outputs": [
        {
          "output_type": "execute_result",
          "data": {
            "text/plain": [
              "str"
            ]
          },
          "metadata": {
            "tags": []
          },
          "execution_count": 49
        }
      ]
    },
    {
      "cell_type": "code",
      "metadata": {
        "id": "J_Z_NOBRf_aB"
      },
      "source": [
        "t3 =  (\"18Mar\",)"
      ],
      "execution_count": 50,
      "outputs": []
    },
    {
      "cell_type": "code",
      "metadata": {
        "colab": {
          "base_uri": "https://localhost:8080/"
        },
        "id": "z0a3ayEOgE6e",
        "outputId": "a13cb65c-0645-4f0a-acb2-0590496ccf30"
      },
      "source": [
        "type(t3)"
      ],
      "execution_count": 51,
      "outputs": [
        {
          "output_type": "execute_result",
          "data": {
            "text/plain": [
              "tuple"
            ]
          },
          "metadata": {
            "tags": []
          },
          "execution_count": 51
        }
      ]
    },
    {
      "cell_type": "code",
      "metadata": {
        "colab": {
          "base_uri": "https://localhost:8080/",
          "height": 35
        },
        "id": "YBVEOEQOgGHL",
        "outputId": "d3136146-a296-4c4e-ee71-59c710afc708"
      },
      "source": [
        "t2*5"
      ],
      "execution_count": 52,
      "outputs": [
        {
          "output_type": "execute_result",
          "data": {
            "application/vnd.google.colaboratory.intrinsic+json": {
              "type": "string"
            },
            "text/plain": [
              "'18Mar18Mar18Mar18Mar18Mar'"
            ]
          },
          "metadata": {
            "tags": []
          },
          "execution_count": 52
        }
      ]
    },
    {
      "cell_type": "code",
      "metadata": {
        "colab": {
          "base_uri": "https://localhost:8080/"
        },
        "id": "8INlOO2CgItB",
        "outputId": "0398f97d-003f-40f4-f811-9e96f6638362"
      },
      "source": [
        "t3*5"
      ],
      "execution_count": 53,
      "outputs": [
        {
          "output_type": "execute_result",
          "data": {
            "text/plain": [
              "('18Mar', '18Mar', '18Mar', '18Mar', '18Mar')"
            ]
          },
          "metadata": {
            "tags": []
          },
          "execution_count": 53
        }
      ]
    }
  ]
}