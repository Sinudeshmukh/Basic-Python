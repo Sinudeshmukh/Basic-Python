{
  "nbformat": 4,
  "nbformat_minor": 0,
  "metadata": {
    "colab": {
      "name": "Loops.ipynb",
      "provenance": [],
      "authorship_tag": "ABX9TyOKx8mcH9QA7n58D5pGx08A",
      "include_colab_link": true
    },
    "kernelspec": {
      "name": "python3",
      "display_name": "Python 3"
    },
    "language_info": {
      "name": "python"
    }
  },
  "cells": [
    {
      "cell_type": "markdown",
      "metadata": {
        "id": "view-in-github",
        "colab_type": "text"
      },
      "source": [
        "<a href=\"https://colab.research.google.com/github/Sinudeshmukh/Basic-Python/blob/main/Loops.ipynb\" target=\"_parent\"><img src=\"https://colab.research.google.com/assets/colab-badge.svg\" alt=\"Open In Colab\"/></a>"
      ]
    },
    {
      "cell_type": "code",
      "metadata": {
        "colab": {
          "base_uri": "https://localhost:8080/"
        },
        "id": "-0v_iFYoN0kg",
        "outputId": "4df5f551-4985-4616-de7e-cae6a893b78b"
      },
      "source": [
        "index = 0\n",
        "while index < 100:\n",
        "  print(index)\n",
        "  index += 12"
      ],
      "execution_count": null,
      "outputs": [
        {
          "output_type": "stream",
          "text": [
            "0\n",
            "12\n",
            "24\n",
            "36\n",
            "48\n",
            "60\n",
            "72\n",
            "84\n",
            "96\n"
          ],
          "name": "stdout"
        }
      ]
    },
    {
      "cell_type": "code",
      "metadata": {
        "id": "y_BupKSpOk8T"
      },
      "source": [
        "r= range(50,101,10)"
      ],
      "execution_count": null,
      "outputs": []
    },
    {
      "cell_type": "code",
      "metadata": {
        "colab": {
          "base_uri": "https://localhost:8080/"
        },
        "id": "P6ekhYrgQq7M",
        "outputId": "c86f97f1-bcab-481d-fb30-d639ccb95c95"
      },
      "source": [
        "for item in r:\n",
        "  print(item)"
      ],
      "execution_count": null,
      "outputs": [
        {
          "output_type": "stream",
          "text": [
            "50\n",
            "60\n",
            "70\n",
            "80\n",
            "90\n",
            "100\n"
          ],
          "name": "stdout"
        }
      ]
    },
    {
      "cell_type": "code",
      "metadata": {
        "colab": {
          "base_uri": "https://localhost:8080/"
        },
        "id": "1XA1sosgQwiy",
        "outputId": "52368de4-9c7b-4183-e44a-b8f335e8a901"
      },
      "source": [
        "r1 = range(50,4,-5)\n",
        "for item in r1:\n",
        "  print(item)"
      ],
      "execution_count": null,
      "outputs": [
        {
          "output_type": "stream",
          "text": [
            "50\n",
            "45\n",
            "40\n",
            "35\n",
            "30\n",
            "25\n",
            "20\n",
            "15\n",
            "10\n",
            "5\n"
          ],
          "name": "stdout"
        }
      ]
    },
    {
      "cell_type": "code",
      "metadata": {
        "colab": {
          "base_uri": "https://localhost:8080/"
        },
        "id": "lY2MupXXRxbt",
        "outputId": "a38725be-40a2-4733-bb07-41c82afca1bb"
      },
      "source": [
        "websites = ['amazon','flipkart','paytm']\n",
        "\n",
        "for item in websites:\n",
        "  print('www.'+item+'.com',end=' ,')"
      ],
      "execution_count": null,
      "outputs": [
        {
          "output_type": "stream",
          "text": [
            "www.amazon.com ,www.flipkart.com ,www.paytm.com ,"
          ],
          "name": "stdout"
        }
      ]
    },
    {
      "cell_type": "code",
      "metadata": {
        "colab": {
          "base_uri": "https://localhost:8080/"
        },
        "id": "qyknodhGUwyA",
        "outputId": "cf77a13d-0582-46a6-9f35-6b4416b51299"
      },
      "source": [
        "websites = ['amazon','flipkart','paytm']\n",
        "ext = ('.in','.com','.org')\n",
        "\n",
        "for web in websites:\n",
        "  for ex in ext:\n",
        "    print('www.'+web+ex)"
      ],
      "execution_count": null,
      "outputs": [
        {
          "output_type": "stream",
          "text": [
            "www.amazon.in\n",
            "www.amazon.com\n",
            "www.amazon.org\n",
            "www.flipkart.in\n",
            "www.flipkart.com\n",
            "www.flipkart.org\n",
            "www.paytm.in\n",
            "www.paytm.com\n",
            "www.paytm.org\n"
          ],
          "name": "stdout"
        }
      ]
    },
    {
      "cell_type": "code",
      "metadata": {
        "colab": {
          "base_uri": "https://localhost:8080/"
        },
        "id": "syTye6GoWdQg",
        "outputId": "15f58f62-3ce8-49d7-b8ee-5aebce9d099d"
      },
      "source": [
        "languages = ['C','C++','JAVA','PYTHON','GOLANG']\n",
        "for index,item in enumerate(languages):\n",
        "  print(index, item)"
      ],
      "execution_count": null,
      "outputs": [
        {
          "output_type": "stream",
          "text": [
            "0 C\n",
            "1 C++\n",
            "2 JAVA\n",
            "3 PYTHON\n",
            "4 GOLANG\n"
          ],
          "name": "stdout"
        }
      ]
    },
    {
      "cell_type": "code",
      "metadata": {
        "colab": {
          "base_uri": "https://localhost:8080/"
        },
        "id": "2tk2BUR9XYDW",
        "outputId": "f1f51c76-d894-4fee-97c9-152a111100c7"
      },
      "source": [
        "for element in enumerate(languages):\n",
        "  print(element)"
      ],
      "execution_count": null,
      "outputs": [
        {
          "output_type": "stream",
          "text": [
            "(0, 'C')\n",
            "(1, 'C++')\n",
            "(2, 'JAVA')\n",
            "(3, 'PYTHON')\n",
            "(4, 'GOLANG')\n"
          ],
          "name": "stdout"
        }
      ]
    },
    {
      "cell_type": "code",
      "metadata": {
        "colab": {
          "base_uri": "https://localhost:8080/"
        },
        "id": "3qkcSxjuXyRH",
        "outputId": "97c59a20-14e9-4baf-c0f7-3bb5efe052de"
      },
      "source": [
        " for item in range(11):\n",
        "   print(item)\n",
        "   if item==6:\n",
        "     break"
      ],
      "execution_count": null,
      "outputs": [
        {
          "output_type": "stream",
          "text": [
            "0\n",
            "1\n",
            "2\n",
            "3\n",
            "4\n",
            "5\n",
            "6\n"
          ],
          "name": "stdout"
        }
      ]
    },
    {
      "cell_type": "code",
      "metadata": {
        "colab": {
          "base_uri": "https://localhost:8080/"
        },
        "id": "TQSjSpluYjZG",
        "outputId": "cc552e22-08a9-4368-ed17-7387b57d23a6"
      },
      "source": [
        "for item in range(11):\n",
        "  if item % 2 ==0:\n",
        "    continue\n",
        "  print(item)"
      ],
      "execution_count": null,
      "outputs": [
        {
          "output_type": "stream",
          "text": [
            "1\n",
            "3\n",
            "5\n",
            "7\n",
            "9\n"
          ],
          "name": "stdout"
        }
      ]
    },
    {
      "cell_type": "code",
      "metadata": {
        "id": "_pjKdgYMZ2Fi"
      },
      "source": [
        ""
      ],
      "execution_count": null,
      "outputs": []
    }
  ]
}