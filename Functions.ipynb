{
  "nbformat": 4,
  "nbformat_minor": 0,
  "metadata": {
    "colab": {
      "name": "Functions.ipynb",
      "provenance": [],
      "collapsed_sections": [],
      "authorship_tag": "ABX9TyMBjAm7cx3uRsRyjA+nPOsC",
      "include_colab_link": true
    },
    "kernelspec": {
      "name": "python3",
      "display_name": "Python 3"
    },
    "language_info": {
      "name": "python"
    }
  },
  "cells": [
    {
      "cell_type": "markdown",
      "metadata": {
        "id": "view-in-github",
        "colab_type": "text"
      },
      "source": [
        "<a href=\"https://colab.research.google.com/github/Sinudeshmukh/Basic-Python/blob/main/Functions.ipynb\" target=\"_parent\"><img src=\"https://colab.research.google.com/assets/colab-badge.svg\" alt=\"Open In Colab\"/></a>"
      ]
    },
    {
      "cell_type": "code",
      "metadata": {
        "colab": {
          "base_uri": "https://localhost:8080/"
        },
        "id": "fVfOSlOsd5lW",
        "outputId": "e6951567-8bb3-4bbb-8b7a-33d106431ed0"
      },
      "source": [
        "for item in range(1,6):\n",
        "  print('* '* item)"
      ],
      "execution_count": null,
      "outputs": [
        {
          "output_type": "stream",
          "text": [
            "* \n",
            "* * \n",
            "* * * \n",
            "* * * * \n",
            "* * * * * \n"
          ],
          "name": "stdout"
        }
      ]
    },
    {
      "cell_type": "code",
      "metadata": {
        "colab": {
          "base_uri": "https://localhost:8080/"
        },
        "id": "5_NpI0sxeiAW",
        "outputId": "2871bb3f-57a3-4066-bd2b-5d7b699dd0ed"
      },
      "source": [
        "i = 1\n",
        "while i < 6:\n",
        "  print('* ' * i)\n",
        "  i+=1"
      ],
      "execution_count": null,
      "outputs": [
        {
          "output_type": "stream",
          "text": [
            "* \n",
            "* * \n",
            "* * * \n",
            "* * * * \n",
            "* * * * * \n"
          ],
          "name": "stdout"
        }
      ]
    },
    {
      "cell_type": "code",
      "metadata": {
        "colab": {
          "base_uri": "https://localhost:8080/"
        },
        "id": "OiPlr-kTJ-fr",
        "outputId": "a9062ada-7360-4d10-dafe-5d1893fdf8b0"
      },
      "source": [
        "for i in range(10,0,-1):\n",
        "  print( '*' * i)"
      ],
      "execution_count": null,
      "outputs": [
        {
          "output_type": "stream",
          "text": [
            "**********\n",
            "*********\n",
            "********\n",
            "*******\n",
            "******\n",
            "*****\n",
            "****\n",
            "***\n",
            "**\n",
            "*\n"
          ],
          "name": "stdout"
        }
      ]
    },
    {
      "cell_type": "code",
      "metadata": {
        "colab": {
          "base_uri": "https://localhost:8080/"
        },
        "id": "kgNAE5vOfHcf",
        "outputId": "57c9e851-2112-4062-902e-9e4139758b46"
      },
      "source": [
        "def myfunc():\n",
        "  print('This is basic func')\n",
        "\n",
        "myfunc()"
      ],
      "execution_count": null,
      "outputs": [
        {
          "output_type": "stream",
          "text": [
            "This is basic func\n"
          ],
          "name": "stdout"
        }
      ]
    },
    {
      "cell_type": "code",
      "metadata": {
        "colab": {
          "base_uri": "https://localhost:8080/"
        },
        "id": "nNhEb__FgIkR",
        "outputId": "bc53a33c-e24d-4782-b65f-81db74867488"
      },
      "source": [
        "def Findmin(x,y):\n",
        "  if x < y:\n",
        "    return x\n",
        "  else:\n",
        "    return y\n",
        "\n",
        "\n",
        "Findmin(3,4)\n",
        "  "
      ],
      "execution_count": null,
      "outputs": [
        {
          "output_type": "execute_result",
          "data": {
            "text/plain": [
              "3"
            ]
          },
          "metadata": {
            "tags": []
          },
          "execution_count": 5
        }
      ]
    },
    {
      "cell_type": "code",
      "metadata": {
        "id": "5juT5uRig-ZQ"
      },
      "source": [
        "def findMax(x , y):\n",
        "  if x > y:\n",
        "    return x\n",
        "  else:\n",
        "    return y"
      ],
      "execution_count": null,
      "outputs": []
    },
    {
      "cell_type": "code",
      "metadata": {
        "colab": {
          "base_uri": "https://localhost:8080/"
        },
        "id": "hjuI3uAmMcZh",
        "outputId": "1ef9c9f6-bbc4-40aa-f203-a74c8bad1054"
      },
      "source": [
        "findMax(12,12)"
      ],
      "execution_count": null,
      "outputs": [
        {
          "output_type": "execute_result",
          "data": {
            "text/plain": [
              "12"
            ]
          },
          "metadata": {
            "tags": []
          },
          "execution_count": 7
        }
      ]
    },
    {
      "cell_type": "code",
      "metadata": {
        "colab": {
          "base_uri": "https://localhost:8080/"
        },
        "id": "cOijmQ2QMoOj",
        "outputId": "fdfff244-f457-46b3-d2b0-7ca5f0d790cb"
      },
      "source": [
        "def iterfac(num):\n",
        "  result = 1\n",
        "  for item in range(1,num+1):\n",
        "    result = result * item\n",
        "\n",
        "  return result\n",
        "\n",
        "\n",
        "iterfac(7)\n"
      ],
      "execution_count": null,
      "outputs": [
        {
          "output_type": "execute_result",
          "data": {
            "text/plain": [
              "5040"
            ]
          },
          "metadata": {
            "tags": []
          },
          "execution_count": 8
        }
      ]
    },
    {
      "cell_type": "code",
      "metadata": {
        "colab": {
          "base_uri": "https://localhost:8080/"
        },
        "id": "8y73w50uQvUX",
        "outputId": "0c6c8d6c-5515-4215-d8de-1a10692f4a74"
      },
      "source": [
        "iterfac(2)"
      ],
      "execution_count": null,
      "outputs": [
        {
          "output_type": "execute_result",
          "data": {
            "text/plain": [
              "2"
            ]
          },
          "metadata": {
            "tags": []
          },
          "execution_count": 9
        }
      ]
    },
    {
      "cell_type": "code",
      "metadata": {
        "colab": {
          "base_uri": "https://localhost:8080/"
        },
        "id": "v5VdWAtgR_Bz",
        "outputId": "51bb3922-dc1a-4128-d7b1-e227b83530ff"
      },
      "source": [
        "def recurfactorial(num):\n",
        "  if num == 0 or num == 1:\n",
        "    return 1\n",
        "  else:\n",
        "    return num * recurfactorial(num-1)\n",
        "\n",
        "recurfactorial(4)"
      ],
      "execution_count": null,
      "outputs": [
        {
          "output_type": "execute_result",
          "data": {
            "text/plain": [
              "24"
            ]
          },
          "metadata": {
            "tags": []
          },
          "execution_count": 10
        }
      ]
    },
    {
      "cell_type": "code",
      "metadata": {
        "colab": {
          "base_uri": "https://localhost:8080/"
        },
        "id": "uEHAc43uZ9rC",
        "outputId": "a3040611-8258-4cd9-87c6-f541ce75487e"
      },
      "source": [
        "def deffun(x=1):\n",
        "  print('Value of x:',x)\n",
        "\n",
        "deffun(2)\n",
        "deffun()"
      ],
      "execution_count": null,
      "outputs": [
        {
          "output_type": "stream",
          "text": [
            "Value of x: 2\n",
            "Value of x: 1\n"
          ],
          "name": "stdout"
        }
      ]
    },
    {
      "cell_type": "code",
      "metadata": {
        "id": "RR2FKZNFfu9F"
      },
      "source": [
        "lamb = lambda num: num * num"
      ],
      "execution_count": null,
      "outputs": []
    },
    {
      "cell_type": "code",
      "metadata": {
        "colab": {
          "base_uri": "https://localhost:8080/"
        },
        "id": "nXY1waEVivvd",
        "outputId": "3d8f28bb-efdd-416f-f6ee-20db21f44942"
      },
      "source": [
        "lamb(3)"
      ],
      "execution_count": null,
      "outputs": [
        {
          "output_type": "execute_result",
          "data": {
            "text/plain": [
              "9"
            ]
          },
          "metadata": {
            "tags": []
          },
          "execution_count": 13
        }
      ]
    },
    {
      "cell_type": "code",
      "metadata": {
        "colab": {
          "base_uri": "https://localhost:8080/"
        },
        "id": "qTePk0LOixby",
        "outputId": "53832774-1658-4c7d-e166-17a8a88194b7"
      },
      "source": [
        "print('Max in x,y',(lambda x, y : x  if x > y else y )(10,112))"
      ],
      "execution_count": null,
      "outputs": [
        {
          "output_type": "stream",
          "text": [
            "Max in x,y 112\n"
          ],
          "name": "stdout"
        }
      ]
    },
    {
      "cell_type": "code",
      "metadata": {
        "colab": {
          "base_uri": "https://localhost:8080/"
        },
        "id": "EMvjGtFijDPF",
        "outputId": "8648b640-1ca9-4808-ca7a-01181f3787e5"
      },
      "source": [
        "lst = [deffun, recurfactorial]\n",
        "\n",
        "for item in lst:\n",
        "  print(item(5))"
      ],
      "execution_count": null,
      "outputs": [
        {
          "output_type": "stream",
          "text": [
            "Value of x: 5\n",
            "None\n",
            "120\n"
          ],
          "name": "stdout"
        }
      ]
    }
  ]
}